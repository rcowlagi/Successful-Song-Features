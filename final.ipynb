{
  "nbformat": 4,
  "nbformat_minor": 0,
  "metadata": {
    "colab": {
      "name": "final.ipynb",
      "provenance": [],
      "collapsed_sections": []
    },
    "kernelspec": {
      "name": "python3",
      "display_name": "Python 3"
    },
    "language_info": {
      "name": "python"
    },
    "accelerator": "GPU",
    "widgets": {
      "application/vnd.jupyter.widget-state+json": {
        "32ef242650734537834526949934d8da": {
          "model_module": "@jupyter-widgets/controls",
          "model_name": "HBoxModel",
          "model_module_version": "1.5.0",
          "state": {
            "_view_name": "HBoxView",
            "_dom_classes": [],
            "_model_name": "HBoxModel",
            "_view_module": "@jupyter-widgets/controls",
            "_model_module_version": "1.5.0",
            "_view_count": null,
            "_view_module_version": "1.5.0",
            "box_style": "",
            "layout": "IPY_MODEL_cbec9e25e81041cca25bbb4f95854397",
            "_model_module": "@jupyter-widgets/controls",
            "children": [
              "IPY_MODEL_bf7c8887954e4a2aabad9a73c4bbcf9b",
              "IPY_MODEL_7dd4d605c18247f297eaa96a29c31bbc",
              "IPY_MODEL_426e43b0fe4845ff80a09b5772cf4135"
            ]
          }
        },
        "cbec9e25e81041cca25bbb4f95854397": {
          "model_module": "@jupyter-widgets/base",
          "model_name": "LayoutModel",
          "model_module_version": "1.2.0",
          "state": {
            "_view_name": "LayoutView",
            "grid_template_rows": null,
            "right": null,
            "justify_content": null,
            "_view_module": "@jupyter-widgets/base",
            "overflow": null,
            "_model_module_version": "1.2.0",
            "_view_count": null,
            "flex_flow": null,
            "width": null,
            "min_width": null,
            "border": null,
            "align_items": null,
            "bottom": null,
            "_model_module": "@jupyter-widgets/base",
            "top": null,
            "grid_column": null,
            "overflow_y": null,
            "overflow_x": null,
            "grid_auto_flow": null,
            "grid_area": null,
            "grid_template_columns": null,
            "flex": null,
            "_model_name": "LayoutModel",
            "justify_items": null,
            "grid_row": null,
            "max_height": null,
            "align_content": null,
            "visibility": null,
            "align_self": null,
            "height": null,
            "min_height": null,
            "padding": null,
            "grid_auto_rows": null,
            "grid_gap": null,
            "max_width": null,
            "order": null,
            "_view_module_version": "1.2.0",
            "grid_template_areas": null,
            "object_position": null,
            "object_fit": null,
            "grid_auto_columns": null,
            "margin": null,
            "display": null,
            "left": null
          }
        },
        "bf7c8887954e4a2aabad9a73c4bbcf9b": {
          "model_module": "@jupyter-widgets/controls",
          "model_name": "HTMLModel",
          "model_module_version": "1.5.0",
          "state": {
            "_view_name": "HTMLView",
            "style": "IPY_MODEL_7bcf5b0943ef408f88ce6d37826b22c3",
            "_dom_classes": [],
            "description": "",
            "_model_name": "HTMLModel",
            "placeholder": "​",
            "_view_module": "@jupyter-widgets/controls",
            "_model_module_version": "1.5.0",
            "value": "100%",
            "_view_count": null,
            "_view_module_version": "1.5.0",
            "description_tooltip": null,
            "_model_module": "@jupyter-widgets/controls",
            "layout": "IPY_MODEL_3090d78be8974e75893e505ef8d28a1a"
          }
        },
        "7dd4d605c18247f297eaa96a29c31bbc": {
          "model_module": "@jupyter-widgets/controls",
          "model_name": "FloatProgressModel",
          "model_module_version": "1.5.0",
          "state": {
            "_view_name": "ProgressView",
            "style": "IPY_MODEL_6ca116c0a02241cfbc64ea54d6eba15f",
            "_dom_classes": [],
            "description": "",
            "_model_name": "FloatProgressModel",
            "bar_style": "success",
            "max": 50,
            "_view_module": "@jupyter-widgets/controls",
            "_model_module_version": "1.5.0",
            "value": 50,
            "_view_count": null,
            "_view_module_version": "1.5.0",
            "orientation": "horizontal",
            "min": 0,
            "description_tooltip": null,
            "_model_module": "@jupyter-widgets/controls",
            "layout": "IPY_MODEL_5ab6d6bff3d7422e82ef536952f04d27"
          }
        },
        "426e43b0fe4845ff80a09b5772cf4135": {
          "model_module": "@jupyter-widgets/controls",
          "model_name": "HTMLModel",
          "model_module_version": "1.5.0",
          "state": {
            "_view_name": "HTMLView",
            "style": "IPY_MODEL_dc2b5417876940c48c20e0d2f022280f",
            "_dom_classes": [],
            "description": "",
            "_model_name": "HTMLModel",
            "placeholder": "​",
            "_view_module": "@jupyter-widgets/controls",
            "_model_module_version": "1.5.0",
            "value": " 50/50 [02:55&lt;00:00,  3.58s/it]",
            "_view_count": null,
            "_view_module_version": "1.5.0",
            "description_tooltip": null,
            "_model_module": "@jupyter-widgets/controls",
            "layout": "IPY_MODEL_c79d16538e5149e2a12684730b17853c"
          }
        },
        "7bcf5b0943ef408f88ce6d37826b22c3": {
          "model_module": "@jupyter-widgets/controls",
          "model_name": "DescriptionStyleModel",
          "model_module_version": "1.5.0",
          "state": {
            "_view_name": "StyleView",
            "_model_name": "DescriptionStyleModel",
            "description_width": "",
            "_view_module": "@jupyter-widgets/base",
            "_model_module_version": "1.5.0",
            "_view_count": null,
            "_view_module_version": "1.2.0",
            "_model_module": "@jupyter-widgets/controls"
          }
        },
        "3090d78be8974e75893e505ef8d28a1a": {
          "model_module": "@jupyter-widgets/base",
          "model_name": "LayoutModel",
          "model_module_version": "1.2.0",
          "state": {
            "_view_name": "LayoutView",
            "grid_template_rows": null,
            "right": null,
            "justify_content": null,
            "_view_module": "@jupyter-widgets/base",
            "overflow": null,
            "_model_module_version": "1.2.0",
            "_view_count": null,
            "flex_flow": null,
            "width": null,
            "min_width": null,
            "border": null,
            "align_items": null,
            "bottom": null,
            "_model_module": "@jupyter-widgets/base",
            "top": null,
            "grid_column": null,
            "overflow_y": null,
            "overflow_x": null,
            "grid_auto_flow": null,
            "grid_area": null,
            "grid_template_columns": null,
            "flex": null,
            "_model_name": "LayoutModel",
            "justify_items": null,
            "grid_row": null,
            "max_height": null,
            "align_content": null,
            "visibility": null,
            "align_self": null,
            "height": null,
            "min_height": null,
            "padding": null,
            "grid_auto_rows": null,
            "grid_gap": null,
            "max_width": null,
            "order": null,
            "_view_module_version": "1.2.0",
            "grid_template_areas": null,
            "object_position": null,
            "object_fit": null,
            "grid_auto_columns": null,
            "margin": null,
            "display": null,
            "left": null
          }
        },
        "6ca116c0a02241cfbc64ea54d6eba15f": {
          "model_module": "@jupyter-widgets/controls",
          "model_name": "ProgressStyleModel",
          "model_module_version": "1.5.0",
          "state": {
            "_view_name": "StyleView",
            "_model_name": "ProgressStyleModel",
            "description_width": "",
            "_view_module": "@jupyter-widgets/base",
            "_model_module_version": "1.5.0",
            "_view_count": null,
            "_view_module_version": "1.2.0",
            "bar_color": null,
            "_model_module": "@jupyter-widgets/controls"
          }
        },
        "5ab6d6bff3d7422e82ef536952f04d27": {
          "model_module": "@jupyter-widgets/base",
          "model_name": "LayoutModel",
          "model_module_version": "1.2.0",
          "state": {
            "_view_name": "LayoutView",
            "grid_template_rows": null,
            "right": null,
            "justify_content": null,
            "_view_module": "@jupyter-widgets/base",
            "overflow": null,
            "_model_module_version": "1.2.0",
            "_view_count": null,
            "flex_flow": null,
            "width": null,
            "min_width": null,
            "border": null,
            "align_items": null,
            "bottom": null,
            "_model_module": "@jupyter-widgets/base",
            "top": null,
            "grid_column": null,
            "overflow_y": null,
            "overflow_x": null,
            "grid_auto_flow": null,
            "grid_area": null,
            "grid_template_columns": null,
            "flex": null,
            "_model_name": "LayoutModel",
            "justify_items": null,
            "grid_row": null,
            "max_height": null,
            "align_content": null,
            "visibility": null,
            "align_self": null,
            "height": null,
            "min_height": null,
            "padding": null,
            "grid_auto_rows": null,
            "grid_gap": null,
            "max_width": null,
            "order": null,
            "_view_module_version": "1.2.0",
            "grid_template_areas": null,
            "object_position": null,
            "object_fit": null,
            "grid_auto_columns": null,
            "margin": null,
            "display": null,
            "left": null
          }
        },
        "dc2b5417876940c48c20e0d2f022280f": {
          "model_module": "@jupyter-widgets/controls",
          "model_name": "DescriptionStyleModel",
          "model_module_version": "1.5.0",
          "state": {
            "_view_name": "StyleView",
            "_model_name": "DescriptionStyleModel",
            "description_width": "",
            "_view_module": "@jupyter-widgets/base",
            "_model_module_version": "1.5.0",
            "_view_count": null,
            "_view_module_version": "1.2.0",
            "_model_module": "@jupyter-widgets/controls"
          }
        },
        "c79d16538e5149e2a12684730b17853c": {
          "model_module": "@jupyter-widgets/base",
          "model_name": "LayoutModel",
          "model_module_version": "1.2.0",
          "state": {
            "_view_name": "LayoutView",
            "grid_template_rows": null,
            "right": null,
            "justify_content": null,
            "_view_module": "@jupyter-widgets/base",
            "overflow": null,
            "_model_module_version": "1.2.0",
            "_view_count": null,
            "flex_flow": null,
            "width": null,
            "min_width": null,
            "border": null,
            "align_items": null,
            "bottom": null,
            "_model_module": "@jupyter-widgets/base",
            "top": null,
            "grid_column": null,
            "overflow_y": null,
            "overflow_x": null,
            "grid_auto_flow": null,
            "grid_area": null,
            "grid_template_columns": null,
            "flex": null,
            "_model_name": "LayoutModel",
            "justify_items": null,
            "grid_row": null,
            "max_height": null,
            "align_content": null,
            "visibility": null,
            "align_self": null,
            "height": null,
            "min_height": null,
            "padding": null,
            "grid_auto_rows": null,
            "grid_gap": null,
            "max_width": null,
            "order": null,
            "_view_module_version": "1.2.0",
            "grid_template_areas": null,
            "object_position": null,
            "object_fit": null,
            "grid_auto_columns": null,
            "margin": null,
            "display": null,
            "left": null
          }
        }
      }
    }
  },
  "cells": [
    {
      "cell_type": "markdown",
      "metadata": {
        "id": "h7_gDpgDTH-6"
      },
      "source": [
        "# What makes a song successful?\n",
        "Rohan Cowlagi, Samrat Somana, Aryan Kaul\n",
        "## Introduction\n",
        "\n",
        "Being a successful musician obviously has its merits of fame and money attached to it, but what’s more interesting is how a musical career can be launched by a single ultra-popular song. Just look at Twenty One Pilots’ climb to success. The alternative rock act had a modest following after the release of albums like “Vessel” in 2013, but things really started to take off after the release of their iconic single, “Stressed Out” in 2015. The song became a [massive hit](https://www.bbc.com/news/entertainment-arts-37910692) and [reached #1](https://www.fuse.tv/2015/12/twenty-one-pilots-stressed-out-no-1-rock-songs-chart) on Billboard’s Hot Rock Songs, staying there for many weeks. Twenty One Pilots then went on to win a Grammy, performed over a thousand shows worldwide, and soon became a household name. Clearly, there is a large incentive in making a song that hits the charts. \n",
        "\n",
        "The question is, though, is it possible to know if a song will become popular? More specifically, are there features that make a particular song more likely to commercially succeed? The answer to this question would be very valuable to musicians wanting to break into the music industry: just write songs with the features that make them go viral. Additionally, [record labels](https://exploration.io/what-is-a-record-label/) (organizations that provide monetary resources to artists in exchange for a large portion of the artist’s revenues) could use this to determine which artists have the highest chances of blowing up and give the record label the biggest return on their investment. \n",
        "\n",
        "In this project, we will set out to find which features make a song commercially “successful”. In order to accomplish this, we must define what we mean by commercial “success”. There are many different definitions of commercial success within the music industry, but we are going to use the Billboard Charts. These charts have been a metric for popularity of songs in the American music industry for many years, and we are going to focus specifically on the [Billboard Hot 100 Charts](https://www.billboard.com/charts/hot-100/). According to its own website, the Hot 100 is \"*This week's most popular songs across all genres, ranked by radio airplay audience impressions, as measured by Nielsen Music, sales data as compiled by Nielsen Music, and streaming activity data provided by online music sources.*\" We define any song that has made it to the Billboard Top 100 charts at any point since 1958 as “successful” and any other song in the dataset as “unsuccessful”. We will be using [this](https://www.kaggle.com/dhruvildave/billboard-the-hot-100-songs) dataset from Kaggle which has a collection of the Hot 100 Charts from 1958 up to the present day. \n",
        "\n",
        "Our goal for this song dataset is to collect a large number of songs where half are “successful” and the other half are “unsuccessful”. This equal class distribution will make it so we can legitimately compare songs that are successful and unsuccessful within our Exploratory Data Analysis (EDA) and so that our ML models can learn better.\n",
        "\n",
        "In order to gather song data for our problem, we must look at how music is consumed in the modern era. Streaming has become people’s preferred way to listen to music nowadays. In 2021 it was reported that about [41% of people](https://www.cbsnews.com/news/streaming-tops-radio-as-the-top-way-to-listen-to-music/#:~:text=41%25%20of%20Americans%20now%20primarily,%2C%20cassettes%2C%20or%20vinyl%20records.) in the United States used streaming to listen to music, making it the most popular method. Essentially, streaming is using an internet-based service to listen to music on-demand without downloading audio files. Spotify is one of the most [popular music streaming platforms](https://www.statista.com/statistics/758875/consumers-use-music-streaming-download-services/#:~:text=In%202020%2C%20the%20most%20popular,accessing%20the%20platform%20for%20free.) in the United States right now, so it is a good place to source song data from. Spotify provides an API to request songs along with features corresponding with them (track name, artist name, genre, etc.).\n",
        "\n",
        "Originally, we wanted to request songs from Spotify directly; however, the problem with the Spotify API is that it does not provide a convenient way to request and aggregate a large number of songs in a streamlined fashion. You can only request songs through specific songs and specific playlists (lists of songs that are meant to be played next to each other). It would be difficult to do this using the Spotify API because we don’t definitively know which playlists/artists we should use. Instead, we decided to use [this](https://www.kaggle.com/siropo/spotify-multigenre-playlists-data?select=metal_music_data.csv) Kaggle dataset that has a collection of CSV files that have songs that have already been requested through the Spotify API. It contains 7 CSV files, each of which contains a colleciton of songs from a particular genre.\n"
      ]
    },
    {
      "cell_type": "markdown",
      "source": [
        "# Data Preprocessing"
      ],
      "metadata": {
        "id": "sb8mOKAP75C6"
      }
    },
    {
      "cell_type": "markdown",
      "source": [
        "Let's import some of libraries we'll be using for this project"
      ],
      "metadata": {
        "id": "i8d3HAHKJTg4"
      }
    },
    {
      "cell_type": "code",
      "metadata": {
        "id": "TGsnq6EMsC8T"
      },
      "source": [
        "import pandas as pd\n",
        "import time\n",
        "from sklearn.preprocessing import StandardScaler"
      ],
      "execution_count": null,
      "outputs": []
    },
    {
      "cell_type": "markdown",
      "source": [
        "We import data from the Billboard dataset and store it in our dataframe titled “billboard”. Note that, beforehand, we downloaded all the datasets and then uploaded the files onto a personal Github repo from which we converted the raw CSV file into a pandas dataframe."
      ],
      "metadata": {
        "id": "sHiFMm85d_sS"
      }
    },
    {
      "cell_type": "code",
      "source": [
        "url = 'https://raw.githubusercontent.com/sammy640/320test/main/charts.csv'\n",
        "billboard = pd.read_csv(url)"
      ],
      "metadata": {
        "id": "5483xbmLkhgW"
      },
      "execution_count": null,
      "outputs": []
    },
    {
      "cell_type": "markdown",
      "source": [
        "Let's take a look at what it looks like!"
      ],
      "metadata": {
        "id": "dZyoE-UAJita"
      }
    },
    {
      "cell_type": "code",
      "source": [
        "billboard.head()"
      ],
      "metadata": {
        "colab": {
          "base_uri": "https://localhost:8080/",
          "height": 206
        },
        "id": "9wlAfw7ekqVm",
        "outputId": "10802dff-056a-4392-d06d-a451a79d971f"
      },
      "execution_count": null,
      "outputs": [
        {
          "output_type": "execute_result",
          "data": {
            "text/html": [
              "\n",
              "  <div id=\"df-048a4450-3526-47c6-946d-64e627cb93ed\">\n",
              "    <div class=\"colab-df-container\">\n",
              "      <div>\n",
              "<style scoped>\n",
              "    .dataframe tbody tr th:only-of-type {\n",
              "        vertical-align: middle;\n",
              "    }\n",
              "\n",
              "    .dataframe tbody tr th {\n",
              "        vertical-align: top;\n",
              "    }\n",
              "\n",
              "    .dataframe thead th {\n",
              "        text-align: right;\n",
              "    }\n",
              "</style>\n",
              "<table border=\"1\" class=\"dataframe\">\n",
              "  <thead>\n",
              "    <tr style=\"text-align: right;\">\n",
              "      <th></th>\n",
              "      <th>date</th>\n",
              "      <th>rank</th>\n",
              "      <th>song</th>\n",
              "      <th>artist</th>\n",
              "      <th>last-week</th>\n",
              "      <th>peak-rank</th>\n",
              "      <th>weeks-on-board</th>\n",
              "    </tr>\n",
              "  </thead>\n",
              "  <tbody>\n",
              "    <tr>\n",
              "      <th>0</th>\n",
              "      <td>2021-11-06</td>\n",
              "      <td>1</td>\n",
              "      <td>Easy On Me</td>\n",
              "      <td>Adele</td>\n",
              "      <td>1.0</td>\n",
              "      <td>1</td>\n",
              "      <td>3</td>\n",
              "    </tr>\n",
              "    <tr>\n",
              "      <th>1</th>\n",
              "      <td>2021-11-06</td>\n",
              "      <td>2</td>\n",
              "      <td>Stay</td>\n",
              "      <td>The Kid LAROI &amp; Justin Bieber</td>\n",
              "      <td>2.0</td>\n",
              "      <td>1</td>\n",
              "      <td>16</td>\n",
              "    </tr>\n",
              "    <tr>\n",
              "      <th>2</th>\n",
              "      <td>2021-11-06</td>\n",
              "      <td>3</td>\n",
              "      <td>Industry Baby</td>\n",
              "      <td>Lil Nas X &amp; Jack Harlow</td>\n",
              "      <td>3.0</td>\n",
              "      <td>1</td>\n",
              "      <td>14</td>\n",
              "    </tr>\n",
              "    <tr>\n",
              "      <th>3</th>\n",
              "      <td>2021-11-06</td>\n",
              "      <td>4</td>\n",
              "      <td>Fancy Like</td>\n",
              "      <td>Walker Hayes</td>\n",
              "      <td>4.0</td>\n",
              "      <td>3</td>\n",
              "      <td>19</td>\n",
              "    </tr>\n",
              "    <tr>\n",
              "      <th>4</th>\n",
              "      <td>2021-11-06</td>\n",
              "      <td>5</td>\n",
              "      <td>Bad Habits</td>\n",
              "      <td>Ed Sheeran</td>\n",
              "      <td>5.0</td>\n",
              "      <td>2</td>\n",
              "      <td>18</td>\n",
              "    </tr>\n",
              "  </tbody>\n",
              "</table>\n",
              "</div>\n",
              "      <button class=\"colab-df-convert\" onclick=\"convertToInteractive('df-048a4450-3526-47c6-946d-64e627cb93ed')\"\n",
              "              title=\"Convert this dataframe to an interactive table.\"\n",
              "              style=\"display:none;\">\n",
              "        \n",
              "  <svg xmlns=\"http://www.w3.org/2000/svg\" height=\"24px\"viewBox=\"0 0 24 24\"\n",
              "       width=\"24px\">\n",
              "    <path d=\"M0 0h24v24H0V0z\" fill=\"none\"/>\n",
              "    <path d=\"M18.56 5.44l.94 2.06.94-2.06 2.06-.94-2.06-.94-.94-2.06-.94 2.06-2.06.94zm-11 1L8.5 8.5l.94-2.06 2.06-.94-2.06-.94L8.5 2.5l-.94 2.06-2.06.94zm10 10l.94 2.06.94-2.06 2.06-.94-2.06-.94-.94-2.06-.94 2.06-2.06.94z\"/><path d=\"M17.41 7.96l-1.37-1.37c-.4-.4-.92-.59-1.43-.59-.52 0-1.04.2-1.43.59L10.3 9.45l-7.72 7.72c-.78.78-.78 2.05 0 2.83L4 21.41c.39.39.9.59 1.41.59.51 0 1.02-.2 1.41-.59l7.78-7.78 2.81-2.81c.8-.78.8-2.07 0-2.86zM5.41 20L4 18.59l7.72-7.72 1.47 1.35L5.41 20z\"/>\n",
              "  </svg>\n",
              "      </button>\n",
              "      \n",
              "  <style>\n",
              "    .colab-df-container {\n",
              "      display:flex;\n",
              "      flex-wrap:wrap;\n",
              "      gap: 12px;\n",
              "    }\n",
              "\n",
              "    .colab-df-convert {\n",
              "      background-color: #E8F0FE;\n",
              "      border: none;\n",
              "      border-radius: 50%;\n",
              "      cursor: pointer;\n",
              "      display: none;\n",
              "      fill: #1967D2;\n",
              "      height: 32px;\n",
              "      padding: 0 0 0 0;\n",
              "      width: 32px;\n",
              "    }\n",
              "\n",
              "    .colab-df-convert:hover {\n",
              "      background-color: #E2EBFA;\n",
              "      box-shadow: 0px 1px 2px rgba(60, 64, 67, 0.3), 0px 1px 3px 1px rgba(60, 64, 67, 0.15);\n",
              "      fill: #174EA6;\n",
              "    }\n",
              "\n",
              "    [theme=dark] .colab-df-convert {\n",
              "      background-color: #3B4455;\n",
              "      fill: #D2E3FC;\n",
              "    }\n",
              "\n",
              "    [theme=dark] .colab-df-convert:hover {\n",
              "      background-color: #434B5C;\n",
              "      box-shadow: 0px 1px 3px 1px rgba(0, 0, 0, 0.15);\n",
              "      filter: drop-shadow(0px 1px 2px rgba(0, 0, 0, 0.3));\n",
              "      fill: #FFFFFF;\n",
              "    }\n",
              "  </style>\n",
              "\n",
              "      <script>\n",
              "        const buttonEl =\n",
              "          document.querySelector('#df-048a4450-3526-47c6-946d-64e627cb93ed button.colab-df-convert');\n",
              "        buttonEl.style.display =\n",
              "          google.colab.kernel.accessAllowed ? 'block' : 'none';\n",
              "\n",
              "        async function convertToInteractive(key) {\n",
              "          const element = document.querySelector('#df-048a4450-3526-47c6-946d-64e627cb93ed');\n",
              "          const dataTable =\n",
              "            await google.colab.kernel.invokeFunction('convertToInteractive',\n",
              "                                                     [key], {});\n",
              "          if (!dataTable) return;\n",
              "\n",
              "          const docLinkHtml = 'Like what you see? Visit the ' +\n",
              "            '<a target=\"_blank\" href=https://colab.research.google.com/notebooks/data_table.ipynb>data table notebook</a>'\n",
              "            + ' to learn more about interactive tables.';\n",
              "          element.innerHTML = '';\n",
              "          dataTable['output_type'] = 'display_data';\n",
              "          await google.colab.output.renderOutput(dataTable, element);\n",
              "          const docLink = document.createElement('div');\n",
              "          docLink.innerHTML = docLinkHtml;\n",
              "          element.appendChild(docLink);\n",
              "        }\n",
              "      </script>\n",
              "    </div>\n",
              "  </div>\n",
              "  "
            ],
            "text/plain": [
              "         date  rank           song  ... last-week  peak-rank  weeks-on-board\n",
              "0  2021-11-06     1     Easy On Me  ...       1.0          1               3\n",
              "1  2021-11-06     2           Stay  ...       2.0          1              16\n",
              "2  2021-11-06     3  Industry Baby  ...       3.0          1              14\n",
              "3  2021-11-06     4     Fancy Like  ...       4.0          3              19\n",
              "4  2021-11-06     5     Bad Habits  ...       5.0          2              18\n",
              "\n",
              "[5 rows x 7 columns]"
            ]
          },
          "metadata": {},
          "execution_count": 36
        }
      ]
    },
    {
      "cell_type": "code",
      "source": [
        "billboard.isnull().sum()"
      ],
      "metadata": {
        "colab": {
          "base_uri": "https://localhost:8080/"
        },
        "id": "S0BswrQRWEyP",
        "outputId": "21ec0c7a-eb54-4892-ad4a-c3e06bb95e33"
      },
      "execution_count": null,
      "outputs": [
        {
          "output_type": "execute_result",
          "data": {
            "text/plain": [
              "date                  0\n",
              "rank                  0\n",
              "song                  0\n",
              "artist                0\n",
              "last-week         32312\n",
              "peak-rank             0\n",
              "weeks-on-board        0\n",
              "dtype: int64"
            ]
          },
          "metadata": {},
          "execution_count": 37
        }
      ]
    },
    {
      "cell_type": "markdown",
      "source": [
        "There seems to be missing values in the last-week column, but this doesn't matter because we won't be using this column."
      ],
      "metadata": {
        "id": "yqdsmp3YWzsW"
      }
    },
    {
      "cell_type": "markdown",
      "source": [
        " Then, we import data from 7 different CSV files, each of which has songs from different genres. We then store each one into a dataframe whose name corresponds to the genre."
      ],
      "metadata": {
        "id": "H_ZdrJP-Jgcc"
      }
    },
    {
      "cell_type": "code",
      "source": [
        "url = 'https://raw.githubusercontent.com/sammy640/320test/main/alternative_music_data.csv'\n",
        "alternative = pd.read_csv(url)\n",
        "\n",
        "url = 'https://raw.githubusercontent.com/sammy640/320test/main/blues_music_data.csv'\n",
        "blues = pd.read_csv(url)\n",
        "\n",
        "url = 'https://raw.githubusercontent.com/sammy640/320test/main/hiphop_music_data.csv'\n",
        "hiphop = pd.read_csv(url)\n",
        "\n",
        "url = 'https://raw.githubusercontent.com/sammy640/320test/main/indie_alt_music_data.csv'\n",
        "indiealt = pd.read_csv(url)\n",
        "\n",
        "url = \"https://raw.githubusercontent.com/sammy640/320test/main/metal_music_data.csv\"\n",
        "metal = pd.read_csv(url)\n",
        "\n",
        "url = \"https://raw.githubusercontent.com/sammy640/320test/main/pop_music_data.csv\"\n",
        "pop = pd.read_csv(url)\n",
        "\n",
        "url = \"https://raw.githubusercontent.com/sammy640/320test/main/rock_music_data.csv\"\n",
        "rock = pd.read_csv(url)\n"
      ],
      "metadata": {
        "id": "h2Ib_WgDhE4a"
      },
      "execution_count": null,
      "outputs": []
    },
    {
      "cell_type": "markdown",
      "source": [
        "Let's take a look at one of these genre-based dataframes."
      ],
      "metadata": {
        "id": "3cDGyJePMT3f"
      }
    },
    {
      "cell_type": "code",
      "source": [
        "rock.head()"
      ],
      "metadata": {
        "colab": {
          "base_uri": "https://localhost:8080/",
          "height": 617
        },
        "id": "zhXfw71xLxyE",
        "outputId": "7c175e5a-3793-40f0-eb6a-5b609e855e36"
      },
      "execution_count": null,
      "outputs": [
        {
          "output_type": "execute_result",
          "data": {
            "text/html": [
              "\n",
              "  <div id=\"df-75de2e01-6e6b-402a-b051-8c4e340bd875\">\n",
              "    <div class=\"colab-df-container\">\n",
              "      <div>\n",
              "<style scoped>\n",
              "    .dataframe tbody tr th:only-of-type {\n",
              "        vertical-align: middle;\n",
              "    }\n",
              "\n",
              "    .dataframe tbody tr th {\n",
              "        vertical-align: top;\n",
              "    }\n",
              "\n",
              "    .dataframe thead th {\n",
              "        text-align: right;\n",
              "    }\n",
              "</style>\n",
              "<table border=\"1\" class=\"dataframe\">\n",
              "  <thead>\n",
              "    <tr style=\"text-align: right;\">\n",
              "      <th></th>\n",
              "      <th>Artist Name</th>\n",
              "      <th>Track Name</th>\n",
              "      <th>Popularity</th>\n",
              "      <th>Genres</th>\n",
              "      <th>Playlist</th>\n",
              "      <th>danceability</th>\n",
              "      <th>energy</th>\n",
              "      <th>key</th>\n",
              "      <th>loudness</th>\n",
              "      <th>mode</th>\n",
              "      <th>speechiness</th>\n",
              "      <th>acousticness</th>\n",
              "      <th>instrumentalness</th>\n",
              "      <th>liveness</th>\n",
              "      <th>valence</th>\n",
              "      <th>tempo</th>\n",
              "      <th>id</th>\n",
              "      <th>uri</th>\n",
              "      <th>track_href</th>\n",
              "      <th>analysis_url</th>\n",
              "      <th>duration_ms</th>\n",
              "      <th>time_signature</th>\n",
              "    </tr>\n",
              "  </thead>\n",
              "  <tbody>\n",
              "    <tr>\n",
              "      <th>0</th>\n",
              "      <td>God Street Wine</td>\n",
              "      <td>Nightingale</td>\n",
              "      <td>5</td>\n",
              "      <td>['jam band']</td>\n",
              "      <td>The Lot</td>\n",
              "      <td>0.732</td>\n",
              "      <td>0.710</td>\n",
              "      <td>10</td>\n",
              "      <td>-10.429</td>\n",
              "      <td>1</td>\n",
              "      <td>0.0473</td>\n",
              "      <td>0.12100</td>\n",
              "      <td>0.005720</td>\n",
              "      <td>0.4570</td>\n",
              "      <td>0.825</td>\n",
              "      <td>123.098</td>\n",
              "      <td>6A9mRe1Eg6jUBaiLu1ppAJ</td>\n",
              "      <td>spotify:track:6A9mRe1Eg6jUBaiLu1ppAJ</td>\n",
              "      <td>https://api.spotify.com/v1/tracks/6A9mRe1Eg6jU...</td>\n",
              "      <td>https://api.spotify.com/v1/audio-analysis/6A9m...</td>\n",
              "      <td>352839</td>\n",
              "      <td>4</td>\n",
              "    </tr>\n",
              "    <tr>\n",
              "      <th>1</th>\n",
              "      <td>cleopatrick</td>\n",
              "      <td>hometown</td>\n",
              "      <td>63</td>\n",
              "      <td>['modern alternative rock', 'modern blues rock...</td>\n",
              "      <td>Ultimate Rock Gaming</td>\n",
              "      <td>0.315</td>\n",
              "      <td>0.826</td>\n",
              "      <td>7</td>\n",
              "      <td>-4.314</td>\n",
              "      <td>0</td>\n",
              "      <td>0.0636</td>\n",
              "      <td>0.00064</td>\n",
              "      <td>0.000687</td>\n",
              "      <td>0.0703</td>\n",
              "      <td>0.359</td>\n",
              "      <td>139.161</td>\n",
              "      <td>6p8DGrcAUBuLUgDIKcUn0P</td>\n",
              "      <td>spotify:track:6p8DGrcAUBuLUgDIKcUn0P</td>\n",
              "      <td>https://api.spotify.com/v1/tracks/6p8DGrcAUBuL...</td>\n",
              "      <td>https://api.spotify.com/v1/audio-analysis/6p8D...</td>\n",
              "      <td>256072</td>\n",
              "      <td>4</td>\n",
              "    </tr>\n",
              "    <tr>\n",
              "      <th>2</th>\n",
              "      <td>grandson</td>\n",
              "      <td>In Over My Head</td>\n",
              "      <td>60</td>\n",
              "      <td>['modern alternative rock', 'modern rock', 'ro...</td>\n",
              "      <td>Alternative Beats</td>\n",
              "      <td>0.582</td>\n",
              "      <td>0.817</td>\n",
              "      <td>0</td>\n",
              "      <td>-6.475</td>\n",
              "      <td>1</td>\n",
              "      <td>0.0399</td>\n",
              "      <td>0.00170</td>\n",
              "      <td>0.015800</td>\n",
              "      <td>0.5750</td>\n",
              "      <td>0.622</td>\n",
              "      <td>155.124</td>\n",
              "      <td>3r0mb1tzAcCNoA8YRXuIhZ</td>\n",
              "      <td>spotify:track:3r0mb1tzAcCNoA8YRXuIhZ</td>\n",
              "      <td>https://api.spotify.com/v1/tracks/3r0mb1tzAcCN...</td>\n",
              "      <td>https://api.spotify.com/v1/audio-analysis/3r0m...</td>\n",
              "      <td>198366</td>\n",
              "      <td>4</td>\n",
              "    </tr>\n",
              "    <tr>\n",
              "      <th>3</th>\n",
              "      <td>Counting Crows</td>\n",
              "      <td>Bobby and the Rat-Kings</td>\n",
              "      <td>0</td>\n",
              "      <td>['alternative rock', 'neo mellow', 'pop rock',...</td>\n",
              "      <td>All New Rock</td>\n",
              "      <td>0.470</td>\n",
              "      <td>0.881</td>\n",
              "      <td>5</td>\n",
              "      <td>-4.529</td>\n",
              "      <td>1</td>\n",
              "      <td>0.1330</td>\n",
              "      <td>0.31900</td>\n",
              "      <td>0.000000</td>\n",
              "      <td>0.0856</td>\n",
              "      <td>0.422</td>\n",
              "      <td>141.837</td>\n",
              "      <td>4g3abvA9DjKbjAoRDHWRsx</td>\n",
              "      <td>spotify:track:4g3abvA9DjKbjAoRDHWRsx</td>\n",
              "      <td>https://api.spotify.com/v1/tracks/4g3abvA9DjKb...</td>\n",
              "      <td>https://api.spotify.com/v1/audio-analysis/4g3a...</td>\n",
              "      <td>324867</td>\n",
              "      <td>4</td>\n",
              "    </tr>\n",
              "    <tr>\n",
              "      <th>4</th>\n",
              "      <td>Led Zeppelin</td>\n",
              "      <td>Black Dog - Remaster</td>\n",
              "      <td>72</td>\n",
              "      <td>['album rock', 'classic rock', 'hard rock', 'r...</td>\n",
              "      <td>70s Rock Anthems</td>\n",
              "      <td>0.437</td>\n",
              "      <td>0.864</td>\n",
              "      <td>4</td>\n",
              "      <td>-7.842</td>\n",
              "      <td>0</td>\n",
              "      <td>0.0904</td>\n",
              "      <td>0.39600</td>\n",
              "      <td>0.031400</td>\n",
              "      <td>0.2420</td>\n",
              "      <td>0.749</td>\n",
              "      <td>81.394</td>\n",
              "      <td>3qT4bUD1MaWpGrTwcvguhb</td>\n",
              "      <td>spotify:track:3qT4bUD1MaWpGrTwcvguhb</td>\n",
              "      <td>https://api.spotify.com/v1/tracks/3qT4bUD1MaWp...</td>\n",
              "      <td>https://api.spotify.com/v1/audio-analysis/3qT4...</td>\n",
              "      <td>295387</td>\n",
              "      <td>4</td>\n",
              "    </tr>\n",
              "  </tbody>\n",
              "</table>\n",
              "</div>\n",
              "      <button class=\"colab-df-convert\" onclick=\"convertToInteractive('df-75de2e01-6e6b-402a-b051-8c4e340bd875')\"\n",
              "              title=\"Convert this dataframe to an interactive table.\"\n",
              "              style=\"display:none;\">\n",
              "        \n",
              "  <svg xmlns=\"http://www.w3.org/2000/svg\" height=\"24px\"viewBox=\"0 0 24 24\"\n",
              "       width=\"24px\">\n",
              "    <path d=\"M0 0h24v24H0V0z\" fill=\"none\"/>\n",
              "    <path d=\"M18.56 5.44l.94 2.06.94-2.06 2.06-.94-2.06-.94-.94-2.06-.94 2.06-2.06.94zm-11 1L8.5 8.5l.94-2.06 2.06-.94-2.06-.94L8.5 2.5l-.94 2.06-2.06.94zm10 10l.94 2.06.94-2.06 2.06-.94-2.06-.94-.94-2.06-.94 2.06-2.06.94z\"/><path d=\"M17.41 7.96l-1.37-1.37c-.4-.4-.92-.59-1.43-.59-.52 0-1.04.2-1.43.59L10.3 9.45l-7.72 7.72c-.78.78-.78 2.05 0 2.83L4 21.41c.39.39.9.59 1.41.59.51 0 1.02-.2 1.41-.59l7.78-7.78 2.81-2.81c.8-.78.8-2.07 0-2.86zM5.41 20L4 18.59l7.72-7.72 1.47 1.35L5.41 20z\"/>\n",
              "  </svg>\n",
              "      </button>\n",
              "      \n",
              "  <style>\n",
              "    .colab-df-container {\n",
              "      display:flex;\n",
              "      flex-wrap:wrap;\n",
              "      gap: 12px;\n",
              "    }\n",
              "\n",
              "    .colab-df-convert {\n",
              "      background-color: #E8F0FE;\n",
              "      border: none;\n",
              "      border-radius: 50%;\n",
              "      cursor: pointer;\n",
              "      display: none;\n",
              "      fill: #1967D2;\n",
              "      height: 32px;\n",
              "      padding: 0 0 0 0;\n",
              "      width: 32px;\n",
              "    }\n",
              "\n",
              "    .colab-df-convert:hover {\n",
              "      background-color: #E2EBFA;\n",
              "      box-shadow: 0px 1px 2px rgba(60, 64, 67, 0.3), 0px 1px 3px 1px rgba(60, 64, 67, 0.15);\n",
              "      fill: #174EA6;\n",
              "    }\n",
              "\n",
              "    [theme=dark] .colab-df-convert {\n",
              "      background-color: #3B4455;\n",
              "      fill: #D2E3FC;\n",
              "    }\n",
              "\n",
              "    [theme=dark] .colab-df-convert:hover {\n",
              "      background-color: #434B5C;\n",
              "      box-shadow: 0px 1px 3px 1px rgba(0, 0, 0, 0.15);\n",
              "      filter: drop-shadow(0px 1px 2px rgba(0, 0, 0, 0.3));\n",
              "      fill: #FFFFFF;\n",
              "    }\n",
              "  </style>\n",
              "\n",
              "      <script>\n",
              "        const buttonEl =\n",
              "          document.querySelector('#df-75de2e01-6e6b-402a-b051-8c4e340bd875 button.colab-df-convert');\n",
              "        buttonEl.style.display =\n",
              "          google.colab.kernel.accessAllowed ? 'block' : 'none';\n",
              "\n",
              "        async function convertToInteractive(key) {\n",
              "          const element = document.querySelector('#df-75de2e01-6e6b-402a-b051-8c4e340bd875');\n",
              "          const dataTable =\n",
              "            await google.colab.kernel.invokeFunction('convertToInteractive',\n",
              "                                                     [key], {});\n",
              "          if (!dataTable) return;\n",
              "\n",
              "          const docLinkHtml = 'Like what you see? Visit the ' +\n",
              "            '<a target=\"_blank\" href=https://colab.research.google.com/notebooks/data_table.ipynb>data table notebook</a>'\n",
              "            + ' to learn more about interactive tables.';\n",
              "          element.innerHTML = '';\n",
              "          dataTable['output_type'] = 'display_data';\n",
              "          await google.colab.output.renderOutput(dataTable, element);\n",
              "          const docLink = document.createElement('div');\n",
              "          docLink.innerHTML = docLinkHtml;\n",
              "          element.appendChild(docLink);\n",
              "        }\n",
              "      </script>\n",
              "    </div>\n",
              "  </div>\n",
              "  "
            ],
            "text/plain": [
              "       Artist Name               Track Name  ...  duration_ms time_signature\n",
              "0  God Street Wine              Nightingale  ...       352839              4\n",
              "1      cleopatrick                 hometown  ...       256072              4\n",
              "2         grandson          In Over My Head  ...       198366              4\n",
              "3   Counting Crows  Bobby and the Rat-Kings  ...       324867              4\n",
              "4     Led Zeppelin     Black Dog - Remaster  ...       295387              4\n",
              "\n",
              "[5 rows x 22 columns]"
            ]
          },
          "metadata": {},
          "execution_count": 39
        }
      ]
    },
    {
      "cell_type": "markdown",
      "source": [
        "We want to combine all of these genre dataframes into one big dataframe from which we do all of our analysis. In the final combined dataset, we want a column that indicates what genre the song is.\n",
        "\n",
        "As we can see in the \"rock\" dataframe, there is a column named \"Genres\" that contains a list of the genres that song is a part of. The problem is these genres are *very* specific sub-genres of music (have you ever heard of the \"neo mellow\" sub genre before?) and there is large number of these unique sub-genres. In order to simplify the genre column, we want our \"genre\" column to only contain whether a song belongs to one of the 7 broader, more generic genres that we have above (rock, pop, metal, alternative, indiealt, blues, hiphop).\n",
        "\n",
        "Right now, each of the seperate dataframes does not have a column that indicates it belongs to one of the 7 broad genres. Therefore, in each of the smaller dataframes, we will make a new column indicating which genre the songs are. This is relatively simple since, for example, all of the songs in the \"rock\" dataframe are of the genre \"rock\". So, the genre column will have the value \"rock\" for all entries in the rock dataframe. \n",
        "\n",
        "First we make a list genre names and a list of the genre dataframes themselves."
      ],
      "metadata": {
        "id": "-BXMpsWpKUZQ"
      }
    },
    {
      "cell_type": "code",
      "source": [
        "genres = [\"rock\", \"pop\", \"metal\", \"alternative\", \"indiealt\", \"blues\", \"hiphop\"]\n",
        "genre_df_lst = [rock, pop, metal, alternative, indiealt, blues, hiphop]"
      ],
      "metadata": {
        "id": "1jQ0rD0to6lR"
      },
      "execution_count": null,
      "outputs": []
    },
    {
      "cell_type": "markdown",
      "source": [
        "Then, we create the new column \"genre\" in each of the dataframes. "
      ],
      "metadata": {
        "id": "zm46oLtkLgNR"
      }
    },
    {
      "cell_type": "code",
      "source": [
        "i = 0\n",
        "for genre_df in genre_df_lst:\n",
        "  genre_df[\"genre\"] = genres[i]\n",
        "  i = i + 1"
      ],
      "metadata": {
        "id": "gvrQReXTpU_v"
      },
      "execution_count": null,
      "outputs": []
    },
    {
      "cell_type": "markdown",
      "source": [
        "Now, we can combine them into one big dataframe titled “big_ds”. There may be overlap in songs between genre dataframes, so we drop duplicates by song name to take care of this. We also shuffle our dataset to serve the purpose of reducing variance and making sure that the models do not overfit the data."
      ],
      "metadata": {
        "id": "Cg4bkcqzKcsi"
      }
    },
    {
      "cell_type": "code",
      "source": [
        "big_ds = rock.append(pop).append(metal).append(alternative).append(indiealt).append(blues).append(hiphop) # combining the dataframes into a big dataframe\n",
        "\n",
        "\n",
        "big_ds = big_ds.sample(frac=1).reset_index(drop=True) # shuffle dataset\n",
        "\n",
        "big_ds = big_ds.drop_duplicates(subset=\"Track Name\") # getting rid of duplicate song entries\n"
      ],
      "metadata": {
        "id": "WUiZLC9s4axA"
      },
      "execution_count": null,
      "outputs": []
    },
    {
      "cell_type": "markdown",
      "source": [
        "Here, we create our label column named \"successful\" which indicates whether a song has ever been on the Billboard Hot 100 before. We check if a song has been on the billboard chart by checking if that songs name shows up in the list of values from the billboard dataframe. We don't have to worry about string formatting here because the songs names seem to be in a consistent format."
      ],
      "metadata": {
        "id": "jxwSsEHwOQuV"
      }
    },
    {
      "cell_type": "code",
      "source": [
        "big_ds[\"successful\"] = 0 # default 0, will change to 1 if song was ever seen on the billboard\n",
        "\n",
        "for index, row in big_ds.iterrows():\n",
        "    if row[\"Track Name\"] in billboard[\"song\"].values:\n",
        "        big_ds.at[index, \"successful\"] = 1 # setting label to 1 if song was ever seen on the billboard"
      ],
      "metadata": {
        "id": "I6X8EBCMOPVQ"
      },
      "execution_count": null,
      "outputs": []
    },
    {
      "cell_type": "markdown",
      "source": [
        "Now let's check how many successful and unsuccessful songs we have."
      ],
      "metadata": {
        "id": "hbVy5atmPWkB"
      }
    },
    {
      "cell_type": "code",
      "source": [
        "big_ds[\"successful\"].value_counts()"
      ],
      "metadata": {
        "colab": {
          "base_uri": "https://localhost:8080/"
        },
        "id": "7XjsCvvJO7Gy",
        "outputId": "c4afac55-5acf-4cdb-9a05-d9e92f97635e"
      },
      "execution_count": null,
      "outputs": [
        {
          "output_type": "execute_result",
          "data": {
            "text/plain": [
              "0    14769\n",
              "1     2470\n",
              "Name: successful, dtype: int64"
            ]
          },
          "metadata": {},
          "execution_count": 44
        }
      ]
    },
    {
      "cell_type": "markdown",
      "source": [
        "Uh oh! We have a significant class imbalance problem here. Our goal is to have a balanced dataset with half of the dataset containing billboard songs and the other half containing non-billboard songs. At the moment, we have 14769 unsuccesful songs and 2470 successful songs which is a major difference.\n",
        "\n",
        "We can remedy this by simply sampling 2470 songs unsuccessful from the big_ds and appending it to a new dataframe called final_df and then append all of the successful songs to final_df."
      ],
      "metadata": {
        "id": "EEckxZdXPbxD"
      }
    },
    {
      "cell_type": "code",
      "source": [
        "num_in_billboard = 0\n",
        "num_not_in_billboard = 0\n",
        "billboard_max_count = big_ds[\"successful\"].value_counts()[1] # setting label class cap to ensure even counts of label classes\n",
        "\n",
        "final_df = pd.DataFrame(columns=big_ds.columns)\n",
        "\n",
        "for index, row in big_ds.iterrows(): # adding song entries until label class cap is reached for both classes\n",
        "    if row[\"successful\"] == 1:\n",
        "        if num_in_billboard < billboard_max_count:\n",
        "            final_df = final_df.append(row)\n",
        "            num_in_billboard += 1\n",
        "\n",
        "    elif row[\"successful\"] == 0:\n",
        "        if num_not_in_billboard < billboard_max_count:\n",
        "            final_df = final_df.append(row)\n",
        "            num_not_in_billboard += 1\n",
        "\n",
        "final_df = final_df.sample(frac=1).reset_index(drop=True)\n",
        "#temp_df = final_df.copy()"
      ],
      "metadata": {
        "id": "Tv2S1a2vHkfT"
      },
      "execution_count": null,
      "outputs": []
    },
    {
      "cell_type": "code",
      "source": [
        "final_df[\"successful\"].value_counts()"
      ],
      "metadata": {
        "colab": {
          "base_uri": "https://localhost:8080/"
        },
        "id": "51V31pN6QMXm",
        "outputId": "c5273c77-b9d1-4156-8efd-a85e26b7e3f6"
      },
      "execution_count": null,
      "outputs": [
        {
          "output_type": "execute_result",
          "data": {
            "text/plain": [
              "1    2470\n",
              "0    2470\n",
              "Name: successful, dtype: int64"
            ]
          },
          "metadata": {},
          "execution_count": 24
        }
      ]
    },
    {
      "cell_type": "code",
      "source": [
        "final_df.shape"
      ],
      "metadata": {
        "colab": {
          "base_uri": "https://localhost:8080/"
        },
        "id": "o6nknjjkQZOF",
        "outputId": "752830fb-c1d3-403c-8e5e-0228afd2f494"
      },
      "execution_count": null,
      "outputs": [
        {
          "output_type": "execute_result",
          "data": {
            "text/plain": [
              "(4940, 23)"
            ]
          },
          "metadata": {},
          "execution_count": 25
        }
      ]
    },
    {
      "cell_type": "markdown",
      "source": [
        "We now have 2470 billboard songs and 2470 non-billboard songs. We also have 23 columns in our dataset."
      ],
      "metadata": {
        "id": "LuaN492PQKG-"
      }
    },
    {
      "cell_type": "code",
      "source": [
        "final_df.head()"
      ],
      "metadata": {
        "colab": {
          "base_uri": "https://localhost:8080/",
          "height": 513
        },
        "id": "ijRSuPwRIL90",
        "outputId": "bd29c1d5-c673-4014-f6e4-867f0db37793"
      },
      "execution_count": null,
      "outputs": [
        {
          "output_type": "execute_result",
          "data": {
            "text/html": [
              "\n",
              "  <div id=\"df-69910a30-7292-4143-9740-04039334af4f\">\n",
              "    <div class=\"colab-df-container\">\n",
              "      <div>\n",
              "<style scoped>\n",
              "    .dataframe tbody tr th:only-of-type {\n",
              "        vertical-align: middle;\n",
              "    }\n",
              "\n",
              "    .dataframe tbody tr th {\n",
              "        vertical-align: top;\n",
              "    }\n",
              "\n",
              "    .dataframe thead th {\n",
              "        text-align: right;\n",
              "    }\n",
              "</style>\n",
              "<table border=\"1\" class=\"dataframe\">\n",
              "  <thead>\n",
              "    <tr style=\"text-align: right;\">\n",
              "      <th></th>\n",
              "      <th>Artist Name</th>\n",
              "      <th>Track Name</th>\n",
              "      <th>Popularity</th>\n",
              "      <th>Genres</th>\n",
              "      <th>Playlist</th>\n",
              "      <th>danceability</th>\n",
              "      <th>energy</th>\n",
              "      <th>key</th>\n",
              "      <th>loudness</th>\n",
              "      <th>mode</th>\n",
              "      <th>speechiness</th>\n",
              "      <th>acousticness</th>\n",
              "      <th>instrumentalness</th>\n",
              "      <th>liveness</th>\n",
              "      <th>valence</th>\n",
              "      <th>tempo</th>\n",
              "      <th>id</th>\n",
              "      <th>uri</th>\n",
              "      <th>track_href</th>\n",
              "      <th>analysis_url</th>\n",
              "      <th>duration_ms</th>\n",
              "      <th>time_signature</th>\n",
              "      <th>genre</th>\n",
              "      <th>successful</th>\n",
              "    </tr>\n",
              "  </thead>\n",
              "  <tbody>\n",
              "    <tr>\n",
              "      <th>0</th>\n",
              "      <td>Mascara</td>\n",
              "      <td>Near</td>\n",
              "      <td>11</td>\n",
              "      <td>[]</td>\n",
              "      <td>French Noise</td>\n",
              "      <td>0.137</td>\n",
              "      <td>0.833</td>\n",
              "      <td>8</td>\n",
              "      <td>-7.031</td>\n",
              "      <td>1</td>\n",
              "      <td>0.0633</td>\n",
              "      <td>0.000051</td>\n",
              "      <td>0.305000</td>\n",
              "      <td>0.0933</td>\n",
              "      <td>0.220</td>\n",
              "      <td>157.976</td>\n",
              "      <td>4sy4XhaARpaQ1GmHbuoKec</td>\n",
              "      <td>spotify:track:4sy4XhaARpaQ1GmHbuoKec</td>\n",
              "      <td>https://api.spotify.com/v1/tracks/4sy4XhaARpaQ...</td>\n",
              "      <td>https://api.spotify.com/v1/audio-analysis/4sy4...</td>\n",
              "      <td>296078</td>\n",
              "      <td>4</td>\n",
              "      <td>rock</td>\n",
              "      <td>0</td>\n",
              "    </tr>\n",
              "    <tr>\n",
              "      <th>1</th>\n",
              "      <td>Stone Temple Pilots</td>\n",
              "      <td>Trippin' on a Hole in a Paper Heart</td>\n",
              "      <td>0</td>\n",
              "      <td>['alternative metal', 'alternative rock', 'gru...</td>\n",
              "      <td>Post-Grunge Appreciation Society</td>\n",
              "      <td>0.494</td>\n",
              "      <td>0.951</td>\n",
              "      <td>11</td>\n",
              "      <td>-7.886</td>\n",
              "      <td>0</td>\n",
              "      <td>0.0393</td>\n",
              "      <td>0.000193</td>\n",
              "      <td>0.289000</td>\n",
              "      <td>0.2340</td>\n",
              "      <td>0.724</td>\n",
              "      <td>106.356</td>\n",
              "      <td>6t35bkQQxt6FOpf0lnhqyU</td>\n",
              "      <td>spotify:track:6t35bkQQxt6FOpf0lnhqyU</td>\n",
              "      <td>https://api.spotify.com/v1/tracks/6t35bkQQxt6F...</td>\n",
              "      <td>https://api.spotify.com/v1/audio-analysis/6t35...</td>\n",
              "      <td>190707</td>\n",
              "      <td>4</td>\n",
              "      <td>rock</td>\n",
              "      <td>0</td>\n",
              "    </tr>\n",
              "    <tr>\n",
              "      <th>2</th>\n",
              "      <td>Altin Gün</td>\n",
              "      <td>Yüce Dag Basinda</td>\n",
              "      <td>48</td>\n",
              "      <td>['dutch indie', 'turkish psych']</td>\n",
              "      <td>Modern Psychedelia</td>\n",
              "      <td>0.823</td>\n",
              "      <td>0.569</td>\n",
              "      <td>7</td>\n",
              "      <td>-9.301</td>\n",
              "      <td>0</td>\n",
              "      <td>0.0498</td>\n",
              "      <td>0.057100</td>\n",
              "      <td>0.002420</td>\n",
              "      <td>0.0938</td>\n",
              "      <td>0.831</td>\n",
              "      <td>111.974</td>\n",
              "      <td>5lcqXXSHHdEsugnaAYWOtC</td>\n",
              "      <td>spotify:track:5lcqXXSHHdEsugnaAYWOtC</td>\n",
              "      <td>https://api.spotify.com/v1/tracks/5lcqXXSHHdEs...</td>\n",
              "      <td>https://api.spotify.com/v1/audio-analysis/5lcq...</td>\n",
              "      <td>258316</td>\n",
              "      <td>4</td>\n",
              "      <td>alternative</td>\n",
              "      <td>0</td>\n",
              "    </tr>\n",
              "    <tr>\n",
              "      <th>3</th>\n",
              "      <td>Marmozets</td>\n",
              "      <td>Play</td>\n",
              "      <td>39</td>\n",
              "      <td>['british alternative rock', 'modern alternati...</td>\n",
              "      <td>Full Volume</td>\n",
              "      <td>0.380</td>\n",
              "      <td>0.982</td>\n",
              "      <td>0</td>\n",
              "      <td>-3.287</td>\n",
              "      <td>1</td>\n",
              "      <td>0.1500</td>\n",
              "      <td>0.000266</td>\n",
              "      <td>0.000309</td>\n",
              "      <td>0.3660</td>\n",
              "      <td>0.168</td>\n",
              "      <td>161.095</td>\n",
              "      <td>5hk61Ob5f0kKxKoOGbroMm</td>\n",
              "      <td>spotify:track:5hk61Ob5f0kKxKoOGbroMm</td>\n",
              "      <td>https://api.spotify.com/v1/tracks/5hk61Ob5f0kK...</td>\n",
              "      <td>https://api.spotify.com/v1/audio-analysis/5hk6...</td>\n",
              "      <td>204933</td>\n",
              "      <td>4</td>\n",
              "      <td>rock</td>\n",
              "      <td>1</td>\n",
              "    </tr>\n",
              "    <tr>\n",
              "      <th>4</th>\n",
              "      <td>Omer Adam</td>\n",
              "      <td>קוקוריקו</td>\n",
              "      <td>51</td>\n",
              "      <td>['israeli mediterranean', 'israeli pop', 'mizr...</td>\n",
              "      <td>פופ וים תיכוני: המיטב של 2020</td>\n",
              "      <td>0.787</td>\n",
              "      <td>0.497</td>\n",
              "      <td>10</td>\n",
              "      <td>-7.728</td>\n",
              "      <td>0</td>\n",
              "      <td>0.0396</td>\n",
              "      <td>0.560000</td>\n",
              "      <td>0.000000</td>\n",
              "      <td>0.3040</td>\n",
              "      <td>0.504</td>\n",
              "      <td>111.991</td>\n",
              "      <td>5BqY4WvB0sfGqg4cq25Eto</td>\n",
              "      <td>spotify:track:5BqY4WvB0sfGqg4cq25Eto</td>\n",
              "      <td>https://api.spotify.com/v1/tracks/5BqY4WvB0sfG...</td>\n",
              "      <td>https://api.spotify.com/v1/audio-analysis/5BqY...</td>\n",
              "      <td>171000</td>\n",
              "      <td>4</td>\n",
              "      <td>pop</td>\n",
              "      <td>0</td>\n",
              "    </tr>\n",
              "  </tbody>\n",
              "</table>\n",
              "</div>\n",
              "      <button class=\"colab-df-convert\" onclick=\"convertToInteractive('df-69910a30-7292-4143-9740-04039334af4f')\"\n",
              "              title=\"Convert this dataframe to an interactive table.\"\n",
              "              style=\"display:none;\">\n",
              "        \n",
              "  <svg xmlns=\"http://www.w3.org/2000/svg\" height=\"24px\"viewBox=\"0 0 24 24\"\n",
              "       width=\"24px\">\n",
              "    <path d=\"M0 0h24v24H0V0z\" fill=\"none\"/>\n",
              "    <path d=\"M18.56 5.44l.94 2.06.94-2.06 2.06-.94-2.06-.94-.94-2.06-.94 2.06-2.06.94zm-11 1L8.5 8.5l.94-2.06 2.06-.94-2.06-.94L8.5 2.5l-.94 2.06-2.06.94zm10 10l.94 2.06.94-2.06 2.06-.94-2.06-.94-.94-2.06-.94 2.06-2.06.94z\"/><path d=\"M17.41 7.96l-1.37-1.37c-.4-.4-.92-.59-1.43-.59-.52 0-1.04.2-1.43.59L10.3 9.45l-7.72 7.72c-.78.78-.78 2.05 0 2.83L4 21.41c.39.39.9.59 1.41.59.51 0 1.02-.2 1.41-.59l7.78-7.78 2.81-2.81c.8-.78.8-2.07 0-2.86zM5.41 20L4 18.59l7.72-7.72 1.47 1.35L5.41 20z\"/>\n",
              "  </svg>\n",
              "      </button>\n",
              "      \n",
              "  <style>\n",
              "    .colab-df-container {\n",
              "      display:flex;\n",
              "      flex-wrap:wrap;\n",
              "      gap: 12px;\n",
              "    }\n",
              "\n",
              "    .colab-df-convert {\n",
              "      background-color: #E8F0FE;\n",
              "      border: none;\n",
              "      border-radius: 50%;\n",
              "      cursor: pointer;\n",
              "      display: none;\n",
              "      fill: #1967D2;\n",
              "      height: 32px;\n",
              "      padding: 0 0 0 0;\n",
              "      width: 32px;\n",
              "    }\n",
              "\n",
              "    .colab-df-convert:hover {\n",
              "      background-color: #E2EBFA;\n",
              "      box-shadow: 0px 1px 2px rgba(60, 64, 67, 0.3), 0px 1px 3px 1px rgba(60, 64, 67, 0.15);\n",
              "      fill: #174EA6;\n",
              "    }\n",
              "\n",
              "    [theme=dark] .colab-df-convert {\n",
              "      background-color: #3B4455;\n",
              "      fill: #D2E3FC;\n",
              "    }\n",
              "\n",
              "    [theme=dark] .colab-df-convert:hover {\n",
              "      background-color: #434B5C;\n",
              "      box-shadow: 0px 1px 3px 1px rgba(0, 0, 0, 0.15);\n",
              "      filter: drop-shadow(0px 1px 2px rgba(0, 0, 0, 0.3));\n",
              "      fill: #FFFFFF;\n",
              "    }\n",
              "  </style>\n",
              "\n",
              "      <script>\n",
              "        const buttonEl =\n",
              "          document.querySelector('#df-69910a30-7292-4143-9740-04039334af4f button.colab-df-convert');\n",
              "        buttonEl.style.display =\n",
              "          google.colab.kernel.accessAllowed ? 'block' : 'none';\n",
              "\n",
              "        async function convertToInteractive(key) {\n",
              "          const element = document.querySelector('#df-69910a30-7292-4143-9740-04039334af4f');\n",
              "          const dataTable =\n",
              "            await google.colab.kernel.invokeFunction('convertToInteractive',\n",
              "                                                     [key], {});\n",
              "          if (!dataTable) return;\n",
              "\n",
              "          const docLinkHtml = 'Like what you see? Visit the ' +\n",
              "            '<a target=\"_blank\" href=https://colab.research.google.com/notebooks/data_table.ipynb>data table notebook</a>'\n",
              "            + ' to learn more about interactive tables.';\n",
              "          element.innerHTML = '';\n",
              "          dataTable['output_type'] = 'display_data';\n",
              "          await google.colab.output.renderOutput(dataTable, element);\n",
              "          const docLink = document.createElement('div');\n",
              "          docLink.innerHTML = docLinkHtml;\n",
              "          element.appendChild(docLink);\n",
              "        }\n",
              "      </script>\n",
              "    </div>\n",
              "  </div>\n",
              "  "
            ],
            "text/plain": [
              "           Artist Name  ... successful\n",
              "0              Mascara  ...          0\n",
              "1  Stone Temple Pilots  ...          0\n",
              "2            Altin Gün  ...          0\n",
              "3            Marmozets  ...          1\n",
              "4            Omer Adam  ...          0\n",
              "\n",
              "[5 rows x 24 columns]"
            ]
          },
          "metadata": {},
          "execution_count": 10
        }
      ]
    },
    {
      "cell_type": "code",
      "source": [
        "final_df.isnull().sum()"
      ],
      "metadata": {
        "colab": {
          "base_uri": "https://localhost:8080/"
        },
        "id": "VwamCCpCWkqg",
        "outputId": "f2dc51fc-b580-41d8-d9b4-89addf3e7002"
      },
      "execution_count": null,
      "outputs": [
        {
          "output_type": "execute_result",
          "data": {
            "text/plain": [
              "Artist Name         0\n",
              "Track Name          0\n",
              "Popularity          0\n",
              "Genres              0\n",
              "Playlist            0\n",
              "danceability        0\n",
              "energy              0\n",
              "key                 0\n",
              "loudness            0\n",
              "mode                0\n",
              "speechiness         0\n",
              "acousticness        0\n",
              "instrumentalness    0\n",
              "liveness            0\n",
              "valence             0\n",
              "tempo               0\n",
              "id                  0\n",
              "uri                 0\n",
              "track_href          0\n",
              "analysis_url        0\n",
              "duration_ms         0\n",
              "time_signature      0\n",
              "successful          0\n",
              "dtype: int64"
            ]
          },
          "metadata": {},
          "execution_count": 31
        }
      ]
    },
    {
      "cell_type": "markdown",
      "source": [
        "No missing values!"
      ],
      "metadata": {
        "id": "E9ar7r-YWvMU"
      }
    },
    {
      "cell_type": "markdown",
      "metadata": {
        "id": "YYACG4c_MPi5"
      },
      "source": [
        "# Exploratory Data Analysis"
      ]
    },
    {
      "cell_type": "markdown",
      "source": [
        "We can now explore some trends in our song dataset before we move onto the machine learning models.\n",
        "\n",
        "## Genre Successful vs. Unsuccessful Bar Graph"
      ],
      "metadata": {
        "id": "FTSetccPQwgH"
      }
    },
    {
      "cell_type": "code",
      "metadata": {
        "id": "trXouMkZJtm5",
        "colab": {
          "base_uri": "https://localhost:8080/",
          "height": 297
        },
        "outputId": "82b2641c-839a-4e3c-dac8-6cb2e1d0fe65"
      },
      "source": [
        "import matplotlib.pyplot as plt\n",
        "import numpy as np\n",
        "\n",
        "#x\n",
        "genres = [\"rock\", \"pop\", \"metal\", \"alternative\", \"indiealt\", \"blues\", \"hiphop\"]\n",
        "\n",
        "# y\n",
        "popular = []\n",
        "not_popular = []\n",
        "\n",
        "for genre in genres:\n",
        "  popular.append(len(final_df.loc[(final_df[\"genre\"] == genre) & (final_df[\"successful\"] == 1)]))\n",
        "  not_popular.append(len(final_df.loc[(final_df[\"genre\"] == genre) & (final_df[\"successful\"] == 0)]))\n",
        "\n",
        "width = 0.35  # the width of the bars\n",
        "\n",
        "fig, ax = plt.subplots()\n",
        "x = np.arange(len(genres))\n",
        "rects1 = ax.bar(x - width/2, popular, width, label='Popular')\n",
        "rects2 = ax.bar(x + width/2, not_popular, width, label='Not Popular')\n",
        "\n",
        "# Add some text for labels, title and custom x-axis tick labels\n",
        "ax.set_ylabel('Number of popular and unpopular songs')\n",
        "ax.set_xlabel('Genres')\n",
        "ax.set_title('Number of Popular and Unpopular Songs grouped by Genre')\n",
        "plt.xticks(x, list(genres))\n",
        "ax.legend()\n",
        "\n",
        "fig.tight_layout()\n",
        "\n",
        "plt.show()"
      ],
      "execution_count": null,
      "outputs": [
        {
          "output_type": "display_data",
          "data": {
            "image/png": "[encoded data removed]",
            "text/plain": [
              "<Figure size 432x288 with 1 Axes>"
            ]
          },
          "metadata": {
            "needs_background": "light"
          }
        }
      ]
    },
    {
      "cell_type": "markdown",
      "source": [
        "We wanted to determine if a song’s genre is important in determining whether it becomes successful or not. We created a double bar graph that graphed the number of successful and not successful songs for each genre. From the graph, we can infer that hip hop generally has more successful songs than unsuccessful songs. In recent years, hip hop has become the most popular genre, and naturally more hip hop songs have been making it to the billboard charts. Rock and pop were very popular for many years, but their popularity has slowly declined in recent years.\n"
      ],
      "metadata": {
        "id": "svuBoLuneX-j"
      }
    },
    {
      "cell_type": "markdown",
      "source": [
        "## Time sig. Successful vs. Unsuccessful Bar Graph"
      ],
      "metadata": {
        "id": "2789-EBaQ6dm"
      }
    },
    {
      "cell_type": "code",
      "source": [
        "#x\n",
        "time_sigs = final_df[\"time_signature\"].unique()\n",
        "\n",
        "# y\n",
        "popular = []\n",
        "not_popular = []\n",
        "\n",
        "for time_sig in time_sigs:\n",
        "  popular.append(len(final_df.loc[(final_df[\"time_signature\"] == time_sig) & (final_df[\"successful\"] == 1)]))\n",
        "  not_popular.append(len(final_df.loc[(final_df[\"time_signature\"] == time_sig) & (final_df[\"successful\"] == 0)]))\n",
        "\n",
        "width = 0.35  # the width of the bars\n",
        "\n",
        "fig, ax = plt.subplots()\n",
        "x = np.arange(len(time_sigs))\n",
        "rects1 = ax.bar(x - width/2, popular, width, label='Popular')\n",
        "rects2 = ax.bar(x + width/2, not_popular, width, label='Not Popular')\n",
        "\n",
        "# Add some text for labels, title and custom x-axis tick labels\n",
        "ax.set_ylabel('Number of popular and unpopular songs')\n",
        "ax.set_xlabel('Time Signatures')\n",
        "ax.set_title('Number of Popular and Unpopular Songs grouped by Time Signature')\n",
        "plt.xticks(x, list(time_sigs))\n",
        "ax.legend()\n",
        "\n",
        "fig.tight_layout()\n",
        "\n",
        "plt.show()"
      ],
      "metadata": {
        "colab": {
          "base_uri": "https://localhost:8080/",
          "height": 297
        },
        "id": "y3TyxE3k696h",
        "outputId": "b6fa924e-4e2a-486f-fac8-d32894fe6d37"
      },
      "execution_count": null,
      "outputs": [
        {
          "output_type": "display_data",
          "data": {
            "image/png": "[encoded data removed]",
            "text/plain": [
              "<Figure size 432x288 with 1 Axes>"
            ]
          },
          "metadata": {
            "needs_background": "light"
          }
        }
      ]
    },
    {
      "cell_type": "markdown",
      "source": [
        "\n",
        "\n",
        "We also wanted to determine if a song’s time signature is important in determining whether it becomes successful or not. We created a double bar graph that displayed the number of successful and not successful songs for each time signature in the dataset. From the graph, we can see that 4/4 is the most popular time signature, and it generally has more successful songs than unsuccessful songs. Certain popular songs are not written in this time signature, such as Perfect by Ed Sheeran, but a majority of songs use 4/4. Also, many popular songs are easy to dance to, and the 4/4 time signature is very conducive to dancing.\n"
      ],
      "metadata": {
        "id": "sAZZ7-47ebc4"
      }
    },
    {
      "cell_type": "markdown",
      "source": [
        "## Tempo Successful and Unsuccessful Histograms"
      ],
      "metadata": {
        "id": "-78ooCzNREYi"
      }
    },
    {
      "cell_type": "code",
      "source": [
        "min(list(final_df[\"tempo\"]))"
      ],
      "metadata": {
        "colab": {
          "base_uri": "https://localhost:8080/"
        },
        "id": "V3kois568Lvo",
        "outputId": "6837d8eb-d065-47f9-f2f7-b0c60016eaf9"
      },
      "execution_count": null,
      "outputs": [
        {
          "output_type": "execute_result",
          "data": {
            "text/plain": [
              "0.0"
            ]
          },
          "metadata": {},
          "execution_count": 19
        }
      ]
    },
    {
      "cell_type": "code",
      "source": [
        "max(list(final_df[\"tempo\"]))"
      ],
      "metadata": {
        "colab": {
          "base_uri": "https://localhost:8080/"
        },
        "id": "uXqULDUJACap",
        "outputId": "b71bbeaa-db9f-4ed6-9cf6-4f004f2658e6"
      },
      "execution_count": null,
      "outputs": [
        {
          "output_type": "execute_result",
          "data": {
            "text/plain": [
              "216.091"
            ]
          },
          "metadata": {},
          "execution_count": 20
        }
      ]
    },
    {
      "cell_type": "code",
      "source": [
        "fig, ax = plt.subplots(figsize =(10, 7))\n",
        "ax.hist(final_df[final_df[\"successful\"] == 1][\"tempo\"], bins = [49, 99, 149, 199, 250])\n",
        "ax.set_title(\"Tempo occurrences for successful songs\")\n",
        "plt.show()"
      ],
      "metadata": {
        "colab": {
          "base_uri": "https://localhost:8080/",
          "height": 444
        },
        "id": "F41tgnSsBBZj",
        "outputId": "7df64548-20f0-4d8b-e2ea-a56bda70e68a"
      },
      "execution_count": null,
      "outputs": [
        {
          "output_type": "display_data",
          "data": {
            "image/png": "[encoded data removed]",
            "text/plain": [
              "<Figure size 720x504 with 1 Axes>"
            ]
          },
          "metadata": {
            "needs_background": "light"
          }
        }
      ]
    },
    {
      "cell_type": "code",
      "source": [
        "fig, ax = plt.subplots(figsize =(10, 7))\n",
        "ax.hist(final_df[final_df[\"successful\"] == 0][\"tempo\"], bins = [49, 99, 149, 199, 250])\n",
        "ax.set_title(\"Tempo occurrences for unsuccessful songs\")\n",
        "plt.show()"
      ],
      "metadata": {
        "colab": {
          "base_uri": "https://localhost:8080/",
          "height": 444
        },
        "id": "9WHXDsXhNUC0",
        "outputId": "cd4a3514-38c8-49ba-bc31-53ae1a1fdd19"
      },
      "execution_count": null,
      "outputs": [
        {
          "output_type": "display_data",
          "data": {
            "image/png": "[encoded data removed]",
            "text/plain": [
              "<Figure size 720x504 with 1 Axes>"
            ]
          },
          "metadata": {
            "needs_background": "light"
          }
        }
      ]
    },
    {
      "cell_type": "markdown",
      "source": [
        "One more variable we wanted to look into is tempo. We created two histograms, one for successful and another for unsuccessful; each graph displays the number of songs with tempos in a range of tempos. From the histograms, we can see that there are many songs that range from 100 to 125 BPM, no matter if it is successful or unsuccessful. One factor we did not account for is equivalent tempos. In certain genres, 160 BPM is also written as 80 BPM. This could skew the dataset to the right because many hip hop songs that are 160 BPM are written as 80 BPM.\n"
      ],
      "metadata": {
        "id": "VFrmde9yeiWC"
      }
    },
    {
      "cell_type": "markdown",
      "source": [
        "## Heat Map"
      ],
      "metadata": {
        "id": "MIxgJfwERN2J"
      }
    },
    {
      "cell_type": "code",
      "source": [
        "import seaborn as sns\n",
        "\n",
        "plt.figure(figsize=(15, 15))\n",
        "\n",
        "sns.heatmap(final_df.corr(), annot=True,\n",
        "        xticklabels=final_df.corr().columns,\n",
        "        yticklabels=final_df.corr().columns)"
      ],
      "metadata": {
        "colab": {
          "base_uri": "https://localhost:8080/",
          "height": 961
        },
        "id": "p20GKUny0Zj3",
        "outputId": "c4cd81c8-8f1a-4fc9-e0fd-ee3c862ecef1"
      },
      "execution_count": null,
      "outputs": [
        {
          "output_type": "execute_result",
          "data": {
            "text/plain": [
              "<matplotlib.axes._subplots.AxesSubplot at 0x7fc1cc2a8890>"
            ]
          },
          "metadata": {},
          "execution_count": 23
        },
        {
          "output_type": "display_data",
          "data": {
            "image/png": "[encoded data removed]",
            "text/plain": [
              "<Figure size 1080x1080 with 2 Axes>"
            ]
          },
          "metadata": {
            "needs_background": "light"
          }
        }
      ]
    },
    {
      "cell_type": "markdown",
      "source": [
        "We decided to add a correlation matrix heat map to determine if multicollinearity exists; if this does exist, it could potentially cause problems when creating machine learning models. A majority of the variables are not strongly correlated; however, acousticness and energy as well as acousticness and loudness are pretty highly correlated at 0.72 and -0.67, respectively. So, we will drop the energy column in the machine learning section to prevent conflict with the other predictor variables. \n"
      ],
      "metadata": {
        "id": "DhapaKNjesD-"
      }
    },
    {
      "cell_type": "markdown",
      "source": [
        "## OLS Regression"
      ],
      "metadata": {
        "id": "5jhW80WwR79X"
      }
    },
    {
      "cell_type": "code",
      "metadata": {
        "id": "cBj4QSTgLx-U",
        "colab": {
          "base_uri": "https://localhost:8080/"
        },
        "outputId": "2f881f4e-3616-48b1-e4fc-ff9d9405af0d"
      },
      "source": [
        "import statsmodels.formula.api as smf\n",
        "mod = smf.ols(formula='successful ~ duration_ms+acousticness+danceability+energy+instrumentalness+liveness+loudness+speechiness+tempo+mode+time_signature+key+valence', data=final_df)\n",
        "res = mod.fit()\n",
        "print(res.summary())"
      ],
      "execution_count": null,
      "outputs": [
        {
          "output_type": "stream",
          "name": "stderr",
          "text": [
            "/usr/local/lib/python3.7/dist-packages/statsmodels/tools/_testing.py:19: FutureWarning: pandas.util.testing is deprecated. Use the functions in the public API at pandas.testing instead.\n",
            "  import pandas.util.testing as tm\n"
          ]
        },
        {
          "output_type": "stream",
          "name": "stdout",
          "text": [
            "                            OLS Regression Results                            \n",
            "==============================================================================\n",
            "Dep. Variable:             successful   R-squared:                       0.029\n",
            "Model:                            OLS   Adj. R-squared:                  0.026\n",
            "Method:                 Least Squares   F-statistic:                     11.31\n",
            "Date:                Mon, 20 Dec 2021   Prob (F-statistic):           2.05e-24\n",
            "Time:                        07:04:42   Log-Likelihood:                -3512.8\n",
            "No. Observations:                4940   AIC:                             7054.\n",
            "Df Residuals:                    4926   BIC:                             7145.\n",
            "Df Model:                          13                                         \n",
            "Covariance Type:            nonrobust                                         \n",
            "====================================================================================\n",
            "                       coef    std err          t      P>|t|      [0.025      0.975]\n",
            "------------------------------------------------------------------------------------\n",
            "Intercept            0.3333      0.118      2.835      0.005       0.103       0.564\n",
            "duration_ms        1.32e-07   9.46e-08      1.395      0.163   -5.36e-08    3.18e-07\n",
            "acousticness        -0.1148      0.037     -3.122      0.002      -0.187      -0.043\n",
            "danceability         0.1511      0.056      2.711      0.007       0.042       0.260\n",
            "energy              -0.0742      0.062     -1.187      0.235      -0.197       0.048\n",
            "instrumentalness    -0.2544      0.032     -7.872      0.000      -0.318      -0.191\n",
            "liveness            -0.0423      0.047     -0.899      0.369      -0.135       0.050\n",
            "loudness            -0.0032      0.003     -0.988      0.323      -0.010       0.003\n",
            "speechiness         -0.1052      0.085     -1.239      0.215      -0.272       0.061\n",
            "tempo             5.273e-05      0.000      0.208      0.835      -0.000       0.001\n",
            "mode                 0.0336      0.015      2.266      0.023       0.005       0.063\n",
            "time_signature       0.0139      0.022      0.624      0.532      -0.030       0.057\n",
            "key                 -0.0013      0.002     -0.640      0.522      -0.005       0.003\n",
            "valence              0.1317      0.036      3.668      0.000       0.061       0.202\n",
            "==============================================================================\n",
            "Omnibus:                    18387.883   Durbin-Watson:                   1.988\n",
            "Prob(Omnibus):                  0.000   Jarque-Bera (JB):              735.759\n",
            "Skew:                          -0.010   Prob(JB):                    1.71e-160\n",
            "Kurtosis:                       1.109   Cond. No.                     4.46e+06\n",
            "==============================================================================\n",
            "\n",
            "Warnings:\n",
            "[1] Standard Errors assume that the covariance matrix of the errors is correctly specified.\n",
            "[2] The condition number is large, 4.46e+06. This might indicate that there are\n",
            "strong multicollinearity or other numerical problems.\n"
          ]
        }
      ]
    },
    {
      "cell_type": "markdown",
      "metadata": {
        "id": "nuTBaK29QQX-"
      },
      "source": [
        "According to the OLS regression, duration, energy, liveness, loudness, speechiness, tempo, time signature, and key are not significant because they have p-values that are greater than or equal to .05. However, with some subject matter expertise, we have decided to keep all of these variables besides energy.\n"
      ]
    },
    {
      "cell_type": "markdown",
      "source": [
        "# Machine Learning"
      ],
      "metadata": {
        "id": "Ep1Aau8ZhGbB"
      }
    },
    {
      "cell_type": "markdown",
      "source": [
        "Here, we will drop the columns that are unneccessary for our machine learning model. These are columns that wouldn't contribute to the success of a song ('track_href' is just internal link that the Spotify API uses) and columns that would conflict with other predictors (the energy column as we discussed earlier). You'll also notice that we decided to drop the genre column. We did this after running our data on the ML models below and seeing they were the least important features via the charts we created. After we dropped the genre column, we also saw a boost in accuracy for the model.\n",
        "\n",
        "You will notice that the quantitative predictor columns are not in the same scale. Some of them are fractions below 1, some of them are in the range 1-200, etc. In order to scale all of these columns correctly, we use the in built function from sklearn, StandardScaler.\n",
        "\n",
        "Finally, we will also split our model into testing and training sets.\n",
        "We used an 80-20 train-test split. Originally, we were manually creating the 80-20 datasets because we wanted an equal amount of successful and unsuccessful songs in the train and test sets. However, we decided to trust the law of large numbers and simply shuffle our data; this way, we could simply use the built-in train-test function instead of manually splitting the data.\n"
      ],
      "metadata": {
        "id": "ATVWHRVQe-x-"
      }
    },
    {
      "cell_type": "code",
      "source": [
        "ml_df = final_df.copy(deep=True)\n",
        "# ml_df = pd.get_dummies(ml_df, prefix=['Genre'], columns=['genre'])\n",
        "\n",
        "# ml_df = ml_df.drop(labels=['Artist Name',    'Track Name',    'Popularity',    'Genres', 'Playlist', 'id',    'uri', 'track_href', 'analysis_url'], axis=1)\n",
        "\n",
        "\n",
        "ml_df = ml_df.drop(labels=['Artist Name', 'Track Name', 'Popularity', 'Genres', 'Playlist', 'id', 'uri', 'track_href', 'analysis_url', 'Genres', 'energy', 'genre'], axis=1)\n",
        "ml_df['duration_ms'] = ml_df['duration_ms'].astype(int)\n",
        "\n",
        "ml_df_y = ml_df[[\"successful\"]]\n",
        "y = ml_df_y\n",
        "y=y.astype('int')\n",
        "y\n",
        "\n",
        "ml_df_x = ml_df.drop(columns=[\"successful\"])\n",
        "\n",
        "ml_df_x.shape\n",
        "\n",
        "scaler = StandardScaler()\n",
        "x = scaler.fit_transform(ml_df_x)\n",
        "x = pd.DataFrame(x, columns = ml_df_x.columns)\n",
        "x\n",
        "\n",
        "from sklearn.model_selection import train_test_split\n",
        "x_train, x_test, y_train, y_test = train_test_split(x, y, test_size=0.2)"
      ],
      "metadata": {
        "id": "j4EkuWl58YSM"
      },
      "execution_count": null,
      "outputs": []
    },
    {
      "cell_type": "code",
      "source": [
        "ml_df_x.dtypes"
      ],
      "metadata": {
        "colab": {
          "base_uri": "https://localhost:8080/"
        },
        "id": "B6H3BGI8JT5z",
        "outputId": "d08ac05e-b9ff-4c56-ac66-198a47169d32"
      },
      "execution_count": null,
      "outputs": [
        {
          "output_type": "execute_result",
          "data": {
            "text/plain": [
              "danceability        float64\n",
              "key                  object\n",
              "loudness            float64\n",
              "mode                 object\n",
              "speechiness         float64\n",
              "acousticness        float64\n",
              "instrumentalness    float64\n",
              "liveness            float64\n",
              "valence             float64\n",
              "tempo               float64\n",
              "duration_ms           int64\n",
              "time_signature       object\n",
              "dtype: object"
            ]
          },
          "metadata": {},
          "execution_count": 60
        }
      ]
    },
    {
      "cell_type": "code",
      "source": [
        "from sklearn.metrics import accuracy_score, f1_score"
      ],
      "metadata": {
        "id": "rOxhE-WVAjMe"
      },
      "execution_count": null,
      "outputs": []
    },
    {
      "cell_type": "markdown",
      "source": [
        "## XGBoost "
      ],
      "metadata": {
        "id": "jA4hv9hhbA0t"
      }
    },
    {
      "cell_type": "markdown",
      "source": [
        "XGBoost is a type of machine learning model, but the difference between this model and others is the built-in functionality of determining feature importance. After running the model and visualizing the feature importance, we found that loudness, duration, and speechiness are important features."
      ],
      "metadata": {
        "id": "wPOv88YCiUiZ"
      }
    },
    {
      "cell_type": "code",
      "source": [
        "from xgboost import XGBClassifier\n",
        "from xgboost import plot_importance\n",
        "import matplotlib.pyplot as plt\n",
        "\n",
        "xg_model = XGBClassifier()\n",
        "xg_model.fit(x_train, y_train)\n",
        "\n",
        "\n",
        "xg_preds_tr = xg_model.predict(x_train)\n",
        "xg_preds = xg_model.predict(x_test)\n",
        "print(accuracy_score(y_train, xg_preds_tr))\n",
        "print(accuracy_score(y_test, xg_preds))\n",
        "\n",
        "plot_importance(xg_model)\n",
        "plt.show()"
      ],
      "metadata": {
        "colab": {
          "base_uri": "https://localhost:8080/",
          "height": 419
        },
        "id": "HmnwVVUUOONL",
        "outputId": "23c4c71e-7dfc-4e8c-bc2a-6ff115e2996a"
      },
      "execution_count": null,
      "outputs": [
        {
          "output_type": "stream",
          "name": "stderr",
          "text": [
            "/usr/local/lib/python3.7/dist-packages/sklearn/preprocessing/_label.py:98: DataConversionWarning: A column-vector y was passed when a 1d array was expected. Please change the shape of y to (n_samples, ), for example using ravel().\n",
            "  y = column_or_1d(y, warn=True)\n",
            "/usr/local/lib/python3.7/dist-packages/sklearn/preprocessing/_label.py:133: DataConversionWarning: A column-vector y was passed when a 1d array was expected. Please change the shape of y to (n_samples, ), for example using ravel().\n",
            "  y = column_or_1d(y, warn=True)\n"
          ]
        },
        {
          "output_type": "stream",
          "name": "stdout",
          "text": [
            "0.6907894736842105\n",
            "0.5799595141700404\n"
          ]
        },
        {
          "output_type": "display_data",
          "data": {
            "image/png": "[encoded data removed]",
            "text/plain": [
              "<Figure size 432x288 with 1 Axes>"
            ]
          },
          "metadata": {
            "needs_background": "light"
          }
        }
      ]
    },
    {
      "cell_type": "markdown",
      "source": [
        "## Neural Networks"
      ],
      "metadata": {
        "id": "U100gs2jbGns"
      }
    },
    {
      "cell_type": "code",
      "source": [
        "import tensorflow as tf\n",
        "\n",
        "nn_model = tf.keras.Sequential([tf.keras.Input(ml_df_x.shape[1]),\n",
        "                                tf.keras.layers.Dense(50, activation = tf.nn.relu),\n",
        "                                tf.keras.layers.Dense(50, activation = tf.nn.relu),\n",
        "                                tf.keras.layers.Dense(50, activation = tf.nn.relu),\n",
        "                                tf.keras.layers.Dense(1, activation = tf.nn.sigmoid),\n",
        "])\n",
        "nn_model.summary()"
      ],
      "metadata": {
        "colab": {
          "base_uri": "https://localhost:8080/"
        },
        "id": "d10W0ucWPJM2",
        "outputId": "d9d99b28-ac89-439e-a13d-33dcd7764ece"
      },
      "execution_count": null,
      "outputs": [
        {
          "output_type": "stream",
          "name": "stdout",
          "text": [
            "Model: \"sequential_1\"\n",
            "_________________________________________________________________\n",
            " Layer (type)                Output Shape              Param #   \n",
            "=================================================================\n",
            " dense_4 (Dense)             (None, 50)                650       \n",
            "                                                                 \n",
            " dense_5 (Dense)             (None, 50)                2550      \n",
            "                                                                 \n",
            " dense_6 (Dense)             (None, 50)                2550      \n",
            "                                                                 \n",
            " dense_7 (Dense)             (None, 1)                 51        \n",
            "                                                                 \n",
            "=================================================================\n",
            "Total params: 5,801\n",
            "Trainable params: 5,801\n",
            "Non-trainable params: 0\n",
            "_________________________________________________________________\n"
          ]
        }
      ]
    },
    {
      "cell_type": "code",
      "source": [
        "nn_model.compile(# set the optimizer of your choice below! Learning rate too, if you want.\n",
        "              optimizer = 'adam',\n",
        "              loss = tf.keras.losses.BinaryCrossentropy())"
      ],
      "metadata": {
        "id": "SZ_BUYSfQZr9"
      },
      "execution_count": null,
      "outputs": []
    },
    {
      "cell_type": "markdown",
      "source": [
        "We decided to use 120 epochs because we felt it was enough to effectively train the model while not too many to overfit the model on the training data. An epoch is one iteration of the neural network model."
      ],
      "metadata": {
        "id": "9_Bs-QNhiveK"
      }
    },
    {
      "cell_type": "code",
      "source": [
        "import math\n",
        "nn_model.fit(\n",
        "    x_train, y_train,\n",
        "    epochs = 120, \n",
        "    steps_per_epoch = math.ceil(x_train.shape[0] / 32))"
      ],
      "metadata": {
        "colab": {
          "base_uri": "https://localhost:8080/"
        },
        "id": "td3HMiQpQo3h",
        "outputId": "40704d84-4298-42ed-84b5-3923aeac393a"
      },
      "execution_count": null,
      "outputs": [
        {
          "output_type": "stream",
          "name": "stdout",
          "text": [
            "Epoch 1/120\n",
            "124/124 [==============================] - 3s 4ms/step - loss: 0.6862\n",
            "Epoch 2/120\n",
            "124/124 [==============================] - 0s 4ms/step - loss: 0.6742\n",
            "Epoch 3/120\n",
            "124/124 [==============================] - 0s 4ms/step - loss: 0.6685\n",
            "Epoch 4/120\n",
            "124/124 [==============================] - 0s 4ms/step - loss: 0.6636\n",
            "Epoch 5/120\n",
            "124/124 [==============================] - 1s 4ms/step - loss: 0.6585\n",
            "Epoch 6/120\n",
            "124/124 [==============================] - 1s 7ms/step - loss: 0.6528\n",
            "Epoch 7/120\n",
            "124/124 [==============================] - 1s 7ms/step - loss: 0.6491\n",
            "Epoch 8/120\n",
            "124/124 [==============================] - 1s 8ms/step - loss: 0.6440\n",
            "Epoch 9/120\n",
            "124/124 [==============================] - 1s 8ms/step - loss: 0.6410\n",
            "Epoch 10/120\n",
            "124/124 [==============================] - 1s 8ms/step - loss: 0.6361\n",
            "Epoch 11/120\n",
            "124/124 [==============================] - 1s 8ms/step - loss: 0.6315\n",
            "Epoch 12/120\n",
            "124/124 [==============================] - 1s 8ms/step - loss: 0.6274\n",
            "Epoch 13/120\n",
            "124/124 [==============================] - 1s 8ms/step - loss: 0.6264\n",
            "Epoch 14/120\n",
            "124/124 [==============================] - 1s 7ms/step - loss: 0.6175\n",
            "Epoch 15/120\n",
            "124/124 [==============================] - 1s 8ms/step - loss: 0.6150\n",
            "Epoch 16/120\n",
            "124/124 [==============================] - 1s 8ms/step - loss: 0.6077\n",
            "Epoch 17/120\n",
            "124/124 [==============================] - 1s 6ms/step - loss: 0.6046\n",
            "Epoch 18/120\n",
            "124/124 [==============================] - 1s 7ms/step - loss: 0.5986\n",
            "Epoch 19/120\n",
            "124/124 [==============================] - 1s 7ms/step - loss: 0.5926\n",
            "Epoch 20/120\n",
            "124/124 [==============================] - 1s 7ms/step - loss: 0.5861\n",
            "Epoch 21/120\n",
            "124/124 [==============================] - 1s 7ms/step - loss: 0.5861\n",
            "Epoch 22/120\n",
            "124/124 [==============================] - 1s 7ms/step - loss: 0.5786\n",
            "Epoch 23/120\n",
            "124/124 [==============================] - 1s 7ms/step - loss: 0.5720\n",
            "Epoch 24/120\n",
            "124/124 [==============================] - 1s 7ms/step - loss: 0.5684\n",
            "Epoch 25/120\n",
            "124/124 [==============================] - 1s 7ms/step - loss: 0.5636\n",
            "Epoch 26/120\n",
            "124/124 [==============================] - 1s 5ms/step - loss: 0.5579\n",
            "Epoch 27/120\n",
            "124/124 [==============================] - 0s 4ms/step - loss: 0.5492\n",
            "Epoch 28/120\n",
            "124/124 [==============================] - 0s 4ms/step - loss: 0.5476\n",
            "Epoch 29/120\n",
            "124/124 [==============================] - 0s 4ms/step - loss: 0.5383\n",
            "Epoch 30/120\n",
            "124/124 [==============================] - 1s 4ms/step - loss: 0.5333\n",
            "Epoch 31/120\n",
            "124/124 [==============================] - 0s 4ms/step - loss: 0.5271\n",
            "Epoch 32/120\n",
            "124/124 [==============================] - 0s 4ms/step - loss: 0.5249\n",
            "Epoch 33/120\n",
            "124/124 [==============================] - 0s 4ms/step - loss: 0.5167\n",
            "Epoch 34/120\n",
            "124/124 [==============================] - 0s 4ms/step - loss: 0.5092\n",
            "Epoch 35/120\n",
            "124/124 [==============================] - 0s 4ms/step - loss: 0.5066\n",
            "Epoch 36/120\n",
            "124/124 [==============================] - 0s 4ms/step - loss: 0.5035\n",
            "Epoch 37/120\n",
            "124/124 [==============================] - 0s 4ms/step - loss: 0.4960\n",
            "Epoch 38/120\n",
            "124/124 [==============================] - 0s 4ms/step - loss: 0.4872\n",
            "Epoch 39/120\n",
            "124/124 [==============================] - 0s 4ms/step - loss: 0.4813\n",
            "Epoch 40/120\n",
            "124/124 [==============================] - 0s 4ms/step - loss: 0.4739\n",
            "Epoch 41/120\n",
            "124/124 [==============================] - 0s 4ms/step - loss: 0.4678\n",
            "Epoch 42/120\n",
            "124/124 [==============================] - 0s 4ms/step - loss: 0.4663\n",
            "Epoch 43/120\n",
            "124/124 [==============================] - 0s 4ms/step - loss: 0.4628\n",
            "Epoch 44/120\n",
            "124/124 [==============================] - 0s 4ms/step - loss: 0.4585\n",
            "Epoch 45/120\n",
            "124/124 [==============================] - 0s 4ms/step - loss: 0.4532\n",
            "Epoch 46/120\n",
            "124/124 [==============================] - 0s 4ms/step - loss: 0.4435\n",
            "Epoch 47/120\n",
            "124/124 [==============================] - 0s 4ms/step - loss: 0.4371\n",
            "Epoch 48/120\n",
            "124/124 [==============================] - 0s 4ms/step - loss: 0.4311\n",
            "Epoch 49/120\n",
            "124/124 [==============================] - 0s 4ms/step - loss: 0.4312\n",
            "Epoch 50/120\n",
            "124/124 [==============================] - 0s 4ms/step - loss: 0.4214\n",
            "Epoch 51/120\n",
            "124/124 [==============================] - 0s 4ms/step - loss: 0.4168\n",
            "Epoch 52/120\n",
            "124/124 [==============================] - 0s 4ms/step - loss: 0.4192\n",
            "Epoch 53/120\n",
            "124/124 [==============================] - 0s 4ms/step - loss: 0.4123\n",
            "Epoch 54/120\n",
            "124/124 [==============================] - 0s 4ms/step - loss: 0.4074\n",
            "Epoch 55/120\n",
            "124/124 [==============================] - 0s 4ms/step - loss: 0.4005\n",
            "Epoch 56/120\n",
            "124/124 [==============================] - 0s 4ms/step - loss: 0.3941\n",
            "Epoch 57/120\n",
            "124/124 [==============================] - 0s 4ms/step - loss: 0.3955\n",
            "Epoch 58/120\n",
            "124/124 [==============================] - 0s 4ms/step - loss: 0.3830\n",
            "Epoch 59/120\n",
            "124/124 [==============================] - 0s 4ms/step - loss: 0.3791\n",
            "Epoch 60/120\n",
            "124/124 [==============================] - 0s 4ms/step - loss: 0.3813\n",
            "Epoch 61/120\n",
            "124/124 [==============================] - 0s 4ms/step - loss: 0.3725\n",
            "Epoch 62/120\n",
            "124/124 [==============================] - 1s 4ms/step - loss: 0.3683\n",
            "Epoch 63/120\n",
            "124/124 [==============================] - 0s 4ms/step - loss: 0.3702\n",
            "Epoch 64/120\n",
            "124/124 [==============================] - 0s 4ms/step - loss: 0.3678\n",
            "Epoch 65/120\n",
            "124/124 [==============================] - 0s 4ms/step - loss: 0.3560\n",
            "Epoch 66/120\n",
            "124/124 [==============================] - 0s 4ms/step - loss: 0.3520\n",
            "Epoch 67/120\n",
            "124/124 [==============================] - 0s 4ms/step - loss: 0.3485\n",
            "Epoch 68/120\n",
            "124/124 [==============================] - 0s 4ms/step - loss: 0.3480\n",
            "Epoch 69/120\n",
            "124/124 [==============================] - 0s 4ms/step - loss: 0.3418\n",
            "Epoch 70/120\n",
            "124/124 [==============================] - 1s 4ms/step - loss: 0.3392\n",
            "Epoch 71/120\n",
            "124/124 [==============================] - 1s 4ms/step - loss: 0.3326\n",
            "Epoch 72/120\n",
            "124/124 [==============================] - 0s 4ms/step - loss: 0.3308\n",
            "Epoch 73/120\n",
            "124/124 [==============================] - 0s 4ms/step - loss: 0.3245\n",
            "Epoch 74/120\n",
            "124/124 [==============================] - 0s 4ms/step - loss: 0.3222\n",
            "Epoch 75/120\n",
            "124/124 [==============================] - 0s 4ms/step - loss: 0.3189\n",
            "Epoch 76/120\n",
            "124/124 [==============================] - 0s 4ms/step - loss: 0.3178\n",
            "Epoch 77/120\n",
            "124/124 [==============================] - 0s 4ms/step - loss: 0.3076\n",
            "Epoch 78/120\n",
            "124/124 [==============================] - 1s 4ms/step - loss: 0.3053\n",
            "Epoch 79/120\n",
            "124/124 [==============================] - 0s 4ms/step - loss: 0.2981\n",
            "Epoch 80/120\n",
            "124/124 [==============================] - 0s 4ms/step - loss: 0.2991\n",
            "Epoch 81/120\n",
            "124/124 [==============================] - 1s 4ms/step - loss: 0.2919\n",
            "Epoch 82/120\n",
            "124/124 [==============================] - 0s 4ms/step - loss: 0.2989\n",
            "Epoch 83/120\n",
            "124/124 [==============================] - 1s 4ms/step - loss: 0.2799\n",
            "Epoch 84/120\n",
            "124/124 [==============================] - 0s 4ms/step - loss: 0.2816\n",
            "Epoch 85/120\n",
            "124/124 [==============================] - 0s 4ms/step - loss: 0.2772\n",
            "Epoch 86/120\n",
            "124/124 [==============================] - 0s 4ms/step - loss: 0.2819\n",
            "Epoch 87/120\n",
            "124/124 [==============================] - 1s 4ms/step - loss: 0.2749\n",
            "Epoch 88/120\n",
            "124/124 [==============================] - 0s 4ms/step - loss: 0.2715\n",
            "Epoch 89/120\n",
            "124/124 [==============================] - 0s 4ms/step - loss: 0.2615\n",
            "Epoch 90/120\n",
            "124/124 [==============================] - 0s 4ms/step - loss: 0.2584\n",
            "Epoch 91/120\n",
            "124/124 [==============================] - 0s 4ms/step - loss: 0.2541\n",
            "Epoch 92/120\n",
            "124/124 [==============================] - 0s 4ms/step - loss: 0.2526\n",
            "Epoch 93/120\n",
            "124/124 [==============================] - 0s 4ms/step - loss: 0.2555\n",
            "Epoch 94/120\n",
            "124/124 [==============================] - 0s 4ms/step - loss: 0.2510\n",
            "Epoch 95/120\n",
            "124/124 [==============================] - 0s 4ms/step - loss: 0.2461\n",
            "Epoch 96/120\n",
            "124/124 [==============================] - 0s 4ms/step - loss: 0.2420\n",
            "Epoch 97/120\n",
            "124/124 [==============================] - 0s 4ms/step - loss: 0.2368\n",
            "Epoch 98/120\n",
            "124/124 [==============================] - 0s 4ms/step - loss: 0.2331\n",
            "Epoch 99/120\n",
            "124/124 [==============================] - 0s 4ms/step - loss: 0.2433\n",
            "Epoch 100/120\n",
            "124/124 [==============================] - 0s 4ms/step - loss: 0.2347\n",
            "Epoch 101/120\n",
            "124/124 [==============================] - 0s 4ms/step - loss: 0.2350\n",
            "Epoch 102/120\n",
            "124/124 [==============================] - 0s 4ms/step - loss: 0.2368\n",
            "Epoch 103/120\n",
            "124/124 [==============================] - 0s 4ms/step - loss: 0.2320\n",
            "Epoch 104/120\n",
            "124/124 [==============================] - 1s 4ms/step - loss: 0.2189\n",
            "Epoch 105/120\n",
            "124/124 [==============================] - 0s 4ms/step - loss: 0.2147\n",
            "Epoch 106/120\n",
            "124/124 [==============================] - 0s 4ms/step - loss: 0.2308\n",
            "Epoch 107/120\n",
            "124/124 [==============================] - 0s 4ms/step - loss: 0.2112\n",
            "Epoch 108/120\n",
            "124/124 [==============================] - 0s 4ms/step - loss: 0.2113\n",
            "Epoch 109/120\n",
            "124/124 [==============================] - 0s 4ms/step - loss: 0.2080\n",
            "Epoch 110/120\n",
            "124/124 [==============================] - 0s 4ms/step - loss: 0.2034\n",
            "Epoch 111/120\n",
            "124/124 [==============================] - 0s 4ms/step - loss: 0.2081\n",
            "Epoch 112/120\n",
            "124/124 [==============================] - 0s 4ms/step - loss: 0.1999\n",
            "Epoch 113/120\n",
            "124/124 [==============================] - 0s 4ms/step - loss: 0.1991\n",
            "Epoch 114/120\n",
            "124/124 [==============================] - 0s 4ms/step - loss: 0.1955\n",
            "Epoch 115/120\n",
            "124/124 [==============================] - 0s 4ms/step - loss: 0.1982\n",
            "Epoch 116/120\n",
            "124/124 [==============================] - 0s 4ms/step - loss: 0.1876\n",
            "Epoch 117/120\n",
            "124/124 [==============================] - 0s 4ms/step - loss: 0.1916\n",
            "Epoch 118/120\n",
            "124/124 [==============================] - 0s 4ms/step - loss: 0.1894\n",
            "Epoch 119/120\n",
            "124/124 [==============================] - 0s 4ms/step - loss: 0.1930\n",
            "Epoch 120/120\n",
            "124/124 [==============================] - 1s 4ms/step - loss: 0.1803\n"
          ]
        },
        {
          "output_type": "execute_result",
          "data": {
            "text/plain": [
              "<keras.callbacks.History at 0x7fd51454f510>"
            ]
          },
          "metadata": {},
          "execution_count": 69
        }
      ]
    },
    {
      "cell_type": "code",
      "source": [
        "nn_preds_tr = nn_model.predict(x_train)\n",
        "nn_preds_tr = (nn_preds_tr>=0.5)\n",
        "nn_preds = nn_model.predict(x_test)\n",
        "nn_preds = (nn_preds>=0.5)\n",
        "print(accuracy_score(y_train, nn_preds_tr))\n",
        "print(accuracy_score(y_test, nn_preds))"
      ],
      "metadata": {
        "colab": {
          "base_uri": "https://localhost:8080/"
        },
        "id": "z0ko8YviRG68",
        "outputId": "1abf6303-70d3-4e0e-ce8a-9763b6d20a89"
      },
      "execution_count": null,
      "outputs": [
        {
          "output_type": "stream",
          "name": "stdout",
          "text": [
            "0.9569838056680162\n",
            "0.5192307692307693\n"
          ]
        }
      ]
    },
    {
      "cell_type": "markdown",
      "source": [
        "We decided to try a neural network model because they are known to be very powerful machine learning models. We originally had a shallow model (less layers), but our training accuracy was relatively low. We then decided to try a more dense model (more layers), and our training accuracy increased to 94 percent. However, after tinkering with the layers of this model, we only received a test accuracy of 52 percent. This could potentially be because we overfit to our training data. We are not concerned with the test accuracy because we are not deploying this code; our main goal is interpretability, and having a high training accuracy will allow us accurately determine which features are the most important in determining whether a song is “successful” or not.\n"
      ],
      "metadata": {
        "id": "HZl0wWGIizeq"
      }
    },
    {
      "cell_type": "markdown",
      "source": [
        "In order to determine which features are most important in determing whether a song is successful, we can use Shap, a library that extracts feature importances from machine learning models."
      ],
      "metadata": {
        "id": "HHEnRtS9haJ_"
      }
    },
    {
      "cell_type": "code",
      "source": [
        "!pip install shap"
      ],
      "metadata": {
        "id": "ZIK7JrOjaULe",
        "colab": {
          "base_uri": "https://localhost:8080/"
        },
        "outputId": "559cd626-a061-4e9b-f23e-98f6a4a3be9d"
      },
      "execution_count": null,
      "outputs": [
        {
          "output_type": "stream",
          "name": "stdout",
          "text": [
            "Collecting shap\n",
            "  Downloading shap-0.40.0-cp37-cp37m-manylinux2010_x86_64.whl (564 kB)\n",
            "\u001b[K     |████████████████████████████████| 564 kB 5.5 MB/s \n",
            "\u001b[?25hRequirement already satisfied: scikit-learn in /usr/local/lib/python3.7/dist-packages (from shap) (1.0.1)\n",
            "Requirement already satisfied: cloudpickle in /usr/local/lib/python3.7/dist-packages (from shap) (1.3.0)\n",
            "Requirement already satisfied: scipy in /usr/local/lib/python3.7/dist-packages (from shap) (1.4.1)\n",
            "Requirement already satisfied: numba in /usr/local/lib/python3.7/dist-packages (from shap) (0.51.2)\n",
            "Requirement already satisfied: numpy in /usr/local/lib/python3.7/dist-packages (from shap) (1.19.5)\n",
            "Requirement already satisfied: tqdm>4.25.0 in /usr/local/lib/python3.7/dist-packages (from shap) (4.62.3)\n",
            "Requirement already satisfied: pandas in /usr/local/lib/python3.7/dist-packages (from shap) (1.1.5)\n",
            "Requirement already satisfied: packaging>20.9 in /usr/local/lib/python3.7/dist-packages (from shap) (21.3)\n",
            "Collecting slicer==0.0.7\n",
            "  Downloading slicer-0.0.7-py3-none-any.whl (14 kB)\n",
            "Requirement already satisfied: pyparsing!=3.0.5,>=2.0.2 in /usr/local/lib/python3.7/dist-packages (from packaging>20.9->shap) (3.0.6)\n",
            "Requirement already satisfied: setuptools in /usr/local/lib/python3.7/dist-packages (from numba->shap) (57.4.0)\n",
            "Requirement already satisfied: llvmlite<0.35,>=0.34.0.dev0 in /usr/local/lib/python3.7/dist-packages (from numba->shap) (0.34.0)\n",
            "Requirement already satisfied: python-dateutil>=2.7.3 in /usr/local/lib/python3.7/dist-packages (from pandas->shap) (2.8.2)\n",
            "Requirement already satisfied: pytz>=2017.2 in /usr/local/lib/python3.7/dist-packages (from pandas->shap) (2018.9)\n",
            "Requirement already satisfied: six>=1.5 in /usr/local/lib/python3.7/dist-packages (from python-dateutil>=2.7.3->pandas->shap) (1.15.0)\n",
            "Requirement already satisfied: threadpoolctl>=2.0.0 in /usr/local/lib/python3.7/dist-packages (from scikit-learn->shap) (3.0.0)\n",
            "Requirement already satisfied: joblib>=0.11 in /usr/local/lib/python3.7/dist-packages (from scikit-learn->shap) (1.1.0)\n",
            "Installing collected packages: slicer, shap\n",
            "Successfully installed shap-0.40.0 slicer-0.0.7\n"
          ]
        }
      ]
    },
    {
      "cell_type": "code",
      "source": [
        "import shap"
      ],
      "metadata": {
        "id": "Y_OIx0jVbOTT"
      },
      "execution_count": null,
      "outputs": []
    },
    {
      "cell_type": "code",
      "source": [
        "explainer = shap.KernelExplainer(nn_model.predict,x_train)"
      ],
      "metadata": {
        "colab": {
          "base_uri": "https://localhost:8080/"
        },
        "id": "ASOMy4Btbf9Y",
        "outputId": "a86a1d85-db46-44e1-f498-b9f8b1b35887"
      },
      "execution_count": null,
      "outputs": [
        {
          "output_type": "stream",
          "name": "stderr",
          "text": [
            "Using 3952 background data samples could cause slower run times. Consider using shap.sample(data, K) or shap.kmeans(data, K) to summarize the background as K samples.\n"
          ]
        }
      ]
    },
    {
      "cell_type": "markdown",
      "source": [
        "In order to prevent Shap from taking an incredibly long time to run, we only ran it on 50 values as opposed to the entire test set."
      ],
      "metadata": {
        "id": "PLRlan47iMkZ"
      }
    },
    {
      "cell_type": "code",
      "source": [
        "shap_values = explainer.shap_values(x_test[:50],nsamples=5)"
      ],
      "metadata": {
        "colab": {
          "base_uri": "https://localhost:8080/",
          "height": 1000,
          "referenced_widgets": [
            "32ef242650734537834526949934d8da",
            "cbec9e25e81041cca25bbb4f95854397",
            "bf7c8887954e4a2aabad9a73c4bbcf9b",
            "7dd4d605c18247f297eaa96a29c31bbc",
            "426e43b0fe4845ff80a09b5772cf4135",
            "7bcf5b0943ef408f88ce6d37826b22c3",
            "3090d78be8974e75893e505ef8d28a1a",
            "6ca116c0a02241cfbc64ea54d6eba15f",
            "5ab6d6bff3d7422e82ef536952f04d27",
            "dc2b5417876940c48c20e0d2f022280f",
            "c79d16538e5149e2a12684730b17853c"
          ]
        },
        "id": "nxzRe_erc27d",
        "outputId": "37fabd82-cb02-4b7c-caa6-bbd037ce9cbf"
      },
      "execution_count": null,
      "outputs": [
        {
          "output_type": "display_data",
          "data": {
            "application/vnd.jupyter.widget-view+json": {
              "model_id": "32ef242650734537834526949934d8da",
              "version_minor": 0,
              "version_major": 2
            },
            "text/plain": [
              "  0%|          | 0/50 [00:00<?, ?it/s]"
            ]
          },
          "metadata": {}
        },
        {
          "output_type": "stream",
          "name": "stderr",
          "text": [
            "The default of 'normalize' will be set to False in version 1.2 and deprecated in version 1.4.\n",
            "If you wish to scale the data, use Pipeline with a StandardScaler in a preprocessing stage. To reproduce the previous behavior:\n",
            "\n",
            "from sklearn.pipeline import make_pipeline\n",
            "\n",
            "model = make_pipeline(StandardScaler(with_mean=False), LassoLarsIC())\n",
            "\n",
            "If you wish to pass a sample_weight parameter, you need to pass it as a fit parameter to each step of the pipeline as follows:\n",
            "\n",
            "kwargs = {s[0] + '__sample_weight': sample_weight for s in model.steps}\n",
            "model.fit(X, y, **kwargs)\n",
            "\n",
            "Set parameter alpha to: original_alpha * np.sqrt(n_samples). \n",
            "Regressors in active set degenerate. Dropping a regressor, after 4 iterations, i.e. alpha=2.692e-03, with an active set of 4 regressors, and the smallest cholesky pivot element being 2.107e-08. Reduce max_iter or increase eps parameters.\n",
            "Regressors in active set degenerate. Dropping a regressor, after 4 iterations, i.e. alpha=2.692e-03, with an active set of 4 regressors, and the smallest cholesky pivot element being 1.054e-08. Reduce max_iter or increase eps parameters.\n",
            "The default of 'normalize' will be set to False in version 1.2 and deprecated in version 1.4.\n",
            "If you wish to scale the data, use Pipeline with a StandardScaler in a preprocessing stage. To reproduce the previous behavior:\n",
            "\n",
            "from sklearn.pipeline import make_pipeline\n",
            "\n",
            "model = make_pipeline(StandardScaler(with_mean=False), LassoLarsIC())\n",
            "\n",
            "If you wish to pass a sample_weight parameter, you need to pass it as a fit parameter to each step of the pipeline as follows:\n",
            "\n",
            "kwargs = {s[0] + '__sample_weight': sample_weight for s in model.steps}\n",
            "model.fit(X, y, **kwargs)\n",
            "\n",
            "Set parameter alpha to: original_alpha * np.sqrt(n_samples). \n",
            "Regressors in active set degenerate. Dropping a regressor, after 3 iterations, i.e. alpha=6.884e-04, with an active set of 3 regressors, and the smallest cholesky pivot element being 2.220e-16. Reduce max_iter or increase eps parameters.\n",
            "Regressors in active set degenerate. Dropping a regressor, after 4 iterations, i.e. alpha=3.442e-04, with an active set of 4 regressors, and the smallest cholesky pivot element being 1.490e-08. Reduce max_iter or increase eps parameters.\n",
            "Regressors in active set degenerate. Dropping a regressor, after 4 iterations, i.e. alpha=3.191e-04, with an active set of 4 regressors, and the smallest cholesky pivot element being 1.490e-08. Reduce max_iter or increase eps parameters.\n",
            "Regressors in active set degenerate. Dropping a regressor, after 4 iterations, i.e. alpha=2.014e-04, with an active set of 4 regressors, and the smallest cholesky pivot element being 2.107e-08. Reduce max_iter or increase eps parameters.\n",
            "The default of 'normalize' will be set to False in version 1.2 and deprecated in version 1.4.\n",
            "If you wish to scale the data, use Pipeline with a StandardScaler in a preprocessing stage. To reproduce the previous behavior:\n",
            "\n",
            "from sklearn.pipeline import make_pipeline\n",
            "\n",
            "model = make_pipeline(StandardScaler(with_mean=False), LassoLarsIC())\n",
            "\n",
            "If you wish to pass a sample_weight parameter, you need to pass it as a fit parameter to each step of the pipeline as follows:\n",
            "\n",
            "kwargs = {s[0] + '__sample_weight': sample_weight for s in model.steps}\n",
            "model.fit(X, y, **kwargs)\n",
            "\n",
            "Set parameter alpha to: original_alpha * np.sqrt(n_samples). \n",
            "The default of 'normalize' will be set to False in version 1.2 and deprecated in version 1.4.\n",
            "If you wish to scale the data, use Pipeline with a StandardScaler in a preprocessing stage. To reproduce the previous behavior:\n",
            "\n",
            "from sklearn.pipeline import make_pipeline\n",
            "\n",
            "model = make_pipeline(StandardScaler(with_mean=False), LassoLarsIC())\n",
            "\n",
            "If you wish to pass a sample_weight parameter, you need to pass it as a fit parameter to each step of the pipeline as follows:\n",
            "\n",
            "kwargs = {s[0] + '__sample_weight': sample_weight for s in model.steps}\n",
            "model.fit(X, y, **kwargs)\n",
            "\n",
            "Set parameter alpha to: original_alpha * np.sqrt(n_samples). \n",
            "Regressors in active set degenerate. Dropping a regressor, after 1 iterations, i.e. alpha=2.598e-02, with an active set of 1 regressors, and the smallest cholesky pivot element being 2.581e-08. Reduce max_iter or increase eps parameters.\n",
            "Regressors in active set degenerate. Dropping a regressor, after 2 iterations, i.e. alpha=1.299e-02, with an active set of 2 regressors, and the smallest cholesky pivot element being 1.490e-08. Reduce max_iter or increase eps parameters.\n",
            "Regressors in active set degenerate. Dropping a regressor, after 2 iterations, i.e. alpha=1.035e-02, with an active set of 2 regressors, and the smallest cholesky pivot element being 1.490e-08. Reduce max_iter or increase eps parameters.\n",
            "Regressors in active set degenerate. Dropping a regressor, after 3 iterations, i.e. alpha=1.184e-03, with an active set of 3 regressors, and the smallest cholesky pivot element being 1.490e-08. Reduce max_iter or increase eps parameters.\n",
            "Regressors in active set degenerate. Dropping a regressor, after 3 iterations, i.e. alpha=5.974e-04, with an active set of 3 regressors, and the smallest cholesky pivot element being 1.490e-08. Reduce max_iter or increase eps parameters.\n",
            "The default of 'normalize' will be set to False in version 1.2 and deprecated in version 1.4.\n",
            "If you wish to scale the data, use Pipeline with a StandardScaler in a preprocessing stage. To reproduce the previous behavior:\n",
            "\n",
            "from sklearn.pipeline import make_pipeline\n",
            "\n",
            "model = make_pipeline(StandardScaler(with_mean=False), LassoLarsIC())\n",
            "\n",
            "If you wish to pass a sample_weight parameter, you need to pass it as a fit parameter to each step of the pipeline as follows:\n",
            "\n",
            "kwargs = {s[0] + '__sample_weight': sample_weight for s in model.steps}\n",
            "model.fit(X, y, **kwargs)\n",
            "\n",
            "Set parameter alpha to: original_alpha * np.sqrt(n_samples). \n",
            "Regressors in active set degenerate. Dropping a regressor, after 1 iterations, i.e. alpha=4.211e-02, with an active set of 1 regressors, and the smallest cholesky pivot element being 2.220e-16. Reduce max_iter or increase eps parameters.\n",
            "Regressors in active set degenerate. Dropping a regressor, after 2 iterations, i.e. alpha=2.819e-02, with an active set of 2 regressors, and the smallest cholesky pivot element being 1.054e-08. Reduce max_iter or increase eps parameters.\n",
            "Regressors in active set degenerate. Dropping a regressor, after 3 iterations, i.e. alpha=2.105e-02, with an active set of 3 regressors, and the smallest cholesky pivot element being 2.220e-16. Reduce max_iter or increase eps parameters.\n",
            "Regressors in active set degenerate. Dropping a regressor, after 3 iterations, i.e. alpha=1.373e-02, with an active set of 3 regressors, and the smallest cholesky pivot element being 1.054e-08. Reduce max_iter or increase eps parameters.\n",
            "Regressors in active set degenerate. Dropping a regressor, after 3 iterations, i.e. alpha=7.135e-03, with an active set of 3 regressors, and the smallest cholesky pivot element being 1.054e-08. Reduce max_iter or increase eps parameters.\n",
            "Regressors in active set degenerate. Dropping a regressor, after 4 iterations, i.e. alpha=1.681e-03, with an active set of 4 regressors, and the smallest cholesky pivot element being 2.107e-08. Reduce max_iter or increase eps parameters.\n",
            "Regressors in active set degenerate. Dropping a regressor, after 4 iterations, i.e. alpha=1.681e-03, with an active set of 4 regressors, and the smallest cholesky pivot element being 1.054e-08. Reduce max_iter or increase eps parameters.\n",
            "Regressors in active set degenerate. Dropping a regressor, after 4 iterations, i.e. alpha=8.144e-04, with an active set of 4 regressors, and the smallest cholesky pivot element being 1.054e-08. Reduce max_iter or increase eps parameters.\n",
            "The default of 'normalize' will be set to False in version 1.2 and deprecated in version 1.4.\n",
            "If you wish to scale the data, use Pipeline with a StandardScaler in a preprocessing stage. To reproduce the previous behavior:\n",
            "\n",
            "from sklearn.pipeline import make_pipeline\n",
            "\n",
            "model = make_pipeline(StandardScaler(with_mean=False), LassoLarsIC())\n",
            "\n",
            "If you wish to pass a sample_weight parameter, you need to pass it as a fit parameter to each step of the pipeline as follows:\n",
            "\n",
            "kwargs = {s[0] + '__sample_weight': sample_weight for s in model.steps}\n",
            "model.fit(X, y, **kwargs)\n",
            "\n",
            "Set parameter alpha to: original_alpha * np.sqrt(n_samples). \n",
            "The default of 'normalize' will be set to False in version 1.2 and deprecated in version 1.4.\n",
            "If you wish to scale the data, use Pipeline with a StandardScaler in a preprocessing stage. To reproduce the previous behavior:\n",
            "\n",
            "from sklearn.pipeline import make_pipeline\n",
            "\n",
            "model = make_pipeline(StandardScaler(with_mean=False), LassoLarsIC())\n",
            "\n",
            "If you wish to pass a sample_weight parameter, you need to pass it as a fit parameter to each step of the pipeline as follows:\n",
            "\n",
            "kwargs = {s[0] + '__sample_weight': sample_weight for s in model.steps}\n",
            "model.fit(X, y, **kwargs)\n",
            "\n",
            "Set parameter alpha to: original_alpha * np.sqrt(n_samples). \n",
            "The default of 'normalize' will be set to False in version 1.2 and deprecated in version 1.4.\n",
            "If you wish to scale the data, use Pipeline with a StandardScaler in a preprocessing stage. To reproduce the previous behavior:\n",
            "\n",
            "from sklearn.pipeline import make_pipeline\n",
            "\n",
            "model = make_pipeline(StandardScaler(with_mean=False), LassoLarsIC())\n",
            "\n",
            "If you wish to pass a sample_weight parameter, you need to pass it as a fit parameter to each step of the pipeline as follows:\n",
            "\n",
            "kwargs = {s[0] + '__sample_weight': sample_weight for s in model.steps}\n",
            "model.fit(X, y, **kwargs)\n",
            "\n",
            "Set parameter alpha to: original_alpha * np.sqrt(n_samples). \n",
            "Regressors in active set degenerate. Dropping a regressor, after 1 iterations, i.e. alpha=1.604e-02, with an active set of 1 regressors, and the smallest cholesky pivot element being 2.980e-08. Reduce max_iter or increase eps parameters.\n",
            "Regressors in active set degenerate. Dropping a regressor, after 2 iterations, i.e. alpha=1.523e-02, with an active set of 2 regressors, and the smallest cholesky pivot element being 1.054e-08. Reduce max_iter or increase eps parameters.\n",
            "Regressors in active set degenerate. Dropping a regressor, after 3 iterations, i.e. alpha=8.074e-03, with an active set of 3 regressors, and the smallest cholesky pivot element being 1.054e-08. Reduce max_iter or increase eps parameters.\n",
            "Regressors in active set degenerate. Dropping a regressor, after 4 iterations, i.e. alpha=8.018e-03, with an active set of 4 regressors, and the smallest cholesky pivot element being 2.107e-08. Reduce max_iter or increase eps parameters.\n",
            "Regressors in active set degenerate. Dropping a regressor, after 4 iterations, i.e. alpha=8.018e-03, with an active set of 4 regressors, and the smallest cholesky pivot element being 1.054e-08. Reduce max_iter or increase eps parameters.\n",
            "Regressors in active set degenerate. Dropping a regressor, after 4 iterations, i.e. alpha=7.210e-03, with an active set of 4 regressors, and the smallest cholesky pivot element being 2.107e-08. Reduce max_iter or increase eps parameters.\n",
            "Regressors in active set degenerate. Dropping a regressor, after 4 iterations, i.e. alpha=5.649e-05, with an active set of 4 regressors, and the smallest cholesky pivot element being 2.107e-08. Reduce max_iter or increase eps parameters.\n",
            "The default of 'normalize' will be set to False in version 1.2 and deprecated in version 1.4.\n",
            "If you wish to scale the data, use Pipeline with a StandardScaler in a preprocessing stage. To reproduce the previous behavior:\n",
            "\n",
            "from sklearn.pipeline import make_pipeline\n",
            "\n",
            "model = make_pipeline(StandardScaler(with_mean=False), LassoLarsIC())\n",
            "\n",
            "If you wish to pass a sample_weight parameter, you need to pass it as a fit parameter to each step of the pipeline as follows:\n",
            "\n",
            "kwargs = {s[0] + '__sample_weight': sample_weight for s in model.steps}\n",
            "model.fit(X, y, **kwargs)\n",
            "\n",
            "Set parameter alpha to: original_alpha * np.sqrt(n_samples). \n",
            "The default of 'normalize' will be set to False in version 1.2 and deprecated in version 1.4.\n",
            "If you wish to scale the data, use Pipeline with a StandardScaler in a preprocessing stage. To reproduce the previous behavior:\n",
            "\n",
            "from sklearn.pipeline import make_pipeline\n",
            "\n",
            "model = make_pipeline(StandardScaler(with_mean=False), LassoLarsIC())\n",
            "\n",
            "If you wish to pass a sample_weight parameter, you need to pass it as a fit parameter to each step of the pipeline as follows:\n",
            "\n",
            "kwargs = {s[0] + '__sample_weight': sample_weight for s in model.steps}\n",
            "model.fit(X, y, **kwargs)\n",
            "\n",
            "Set parameter alpha to: original_alpha * np.sqrt(n_samples). \n",
            "The default of 'normalize' will be set to False in version 1.2 and deprecated in version 1.4.\n",
            "If you wish to scale the data, use Pipeline with a StandardScaler in a preprocessing stage. To reproduce the previous behavior:\n",
            "\n",
            "from sklearn.pipeline import make_pipeline\n",
            "\n",
            "model = make_pipeline(StandardScaler(with_mean=False), LassoLarsIC())\n",
            "\n",
            "If you wish to pass a sample_weight parameter, you need to pass it as a fit parameter to each step of the pipeline as follows:\n",
            "\n",
            "kwargs = {s[0] + '__sample_weight': sample_weight for s in model.steps}\n",
            "model.fit(X, y, **kwargs)\n",
            "\n",
            "Set parameter alpha to: original_alpha * np.sqrt(n_samples). \n",
            "The default of 'normalize' will be set to False in version 1.2 and deprecated in version 1.4.\n",
            "If you wish to scale the data, use Pipeline with a StandardScaler in a preprocessing stage. To reproduce the previous behavior:\n",
            "\n",
            "from sklearn.pipeline import make_pipeline\n",
            "\n",
            "model = make_pipeline(StandardScaler(with_mean=False), LassoLarsIC())\n",
            "\n",
            "If you wish to pass a sample_weight parameter, you need to pass it as a fit parameter to each step of the pipeline as follows:\n",
            "\n",
            "kwargs = {s[0] + '__sample_weight': sample_weight for s in model.steps}\n",
            "model.fit(X, y, **kwargs)\n",
            "\n",
            "Set parameter alpha to: original_alpha * np.sqrt(n_samples). \n",
            "The default of 'normalize' will be set to False in version 1.2 and deprecated in version 1.4.\n",
            "If you wish to scale the data, use Pipeline with a StandardScaler in a preprocessing stage. To reproduce the previous behavior:\n",
            "\n",
            "from sklearn.pipeline import make_pipeline\n",
            "\n",
            "model = make_pipeline(StandardScaler(with_mean=False), LassoLarsIC())\n",
            "\n",
            "If you wish to pass a sample_weight parameter, you need to pass it as a fit parameter to each step of the pipeline as follows:\n",
            "\n",
            "kwargs = {s[0] + '__sample_weight': sample_weight for s in model.steps}\n",
            "model.fit(X, y, **kwargs)\n",
            "\n",
            "Set parameter alpha to: original_alpha * np.sqrt(n_samples). \n",
            "Regressors in active set degenerate. Dropping a regressor, after 1 iterations, i.e. alpha=1.750e-02, with an active set of 1 regressors, and the smallest cholesky pivot element being 2.220e-16. Reduce max_iter or increase eps parameters.\n",
            "Regressors in active set degenerate. Dropping a regressor, after 2 iterations, i.e. alpha=1.593e-02, with an active set of 2 regressors, and the smallest cholesky pivot element being 2.220e-16. Reduce max_iter or increase eps parameters.\n",
            "Regressors in active set degenerate. Dropping a regressor, after 3 iterations, i.e. alpha=1.109e-02, with an active set of 3 regressors, and the smallest cholesky pivot element being 2.220e-16. Reduce max_iter or increase eps parameters.\n",
            "Regressors in active set degenerate. Dropping a regressor, after 4 iterations, i.e. alpha=5.620e-03, with an active set of 4 regressors, and the smallest cholesky pivot element being 2.220e-16. Reduce max_iter or increase eps parameters.\n",
            "Regressors in active set degenerate. Dropping a regressor, after 4 iterations, i.e. alpha=9.471e-04, with an active set of 4 regressors, and the smallest cholesky pivot element being 2.356e-08. Reduce max_iter or increase eps parameters.\n",
            "Regressors in active set degenerate. Dropping a regressor, after 4 iterations, i.e. alpha=7.765e-04, with an active set of 4 regressors, and the smallest cholesky pivot element being 2.356e-08. Reduce max_iter or increase eps parameters.\n",
            "The default of 'normalize' will be set to False in version 1.2 and deprecated in version 1.4.\n",
            "If you wish to scale the data, use Pipeline with a StandardScaler in a preprocessing stage. To reproduce the previous behavior:\n",
            "\n",
            "from sklearn.pipeline import make_pipeline\n",
            "\n",
            "model = make_pipeline(StandardScaler(with_mean=False), LassoLarsIC())\n",
            "\n",
            "If you wish to pass a sample_weight parameter, you need to pass it as a fit parameter to each step of the pipeline as follows:\n",
            "\n",
            "kwargs = {s[0] + '__sample_weight': sample_weight for s in model.steps}\n",
            "model.fit(X, y, **kwargs)\n",
            "\n",
            "Set parameter alpha to: original_alpha * np.sqrt(n_samples). \n",
            "The default of 'normalize' will be set to False in version 1.2 and deprecated in version 1.4.\n",
            "If you wish to scale the data, use Pipeline with a StandardScaler in a preprocessing stage. To reproduce the previous behavior:\n",
            "\n",
            "from sklearn.pipeline import make_pipeline\n",
            "\n",
            "model = make_pipeline(StandardScaler(with_mean=False), LassoLarsIC())\n",
            "\n",
            "If you wish to pass a sample_weight parameter, you need to pass it as a fit parameter to each step of the pipeline as follows:\n",
            "\n",
            "kwargs = {s[0] + '__sample_weight': sample_weight for s in model.steps}\n",
            "model.fit(X, y, **kwargs)\n",
            "\n",
            "Set parameter alpha to: original_alpha * np.sqrt(n_samples). \n",
            "Regressors in active set degenerate. Dropping a regressor, after 2 iterations, i.e. alpha=3.032e-02, with an active set of 2 regressors, and the smallest cholesky pivot element being 1.825e-08. Reduce max_iter or increase eps parameters.\n",
            "Regressors in active set degenerate. Dropping a regressor, after 3 iterations, i.e. alpha=1.516e-02, with an active set of 3 regressors, and the smallest cholesky pivot element being 2.220e-16. Reduce max_iter or increase eps parameters.\n",
            "Regressors in active set degenerate. Dropping a regressor, after 3 iterations, i.e. alpha=1.516e-02, with an active set of 3 regressors, and the smallest cholesky pivot element being 1.825e-08. Reduce max_iter or increase eps parameters.\n",
            "Regressors in active set degenerate. Dropping a regressor, after 4 iterations, i.e. alpha=7.263e-03, with an active set of 4 regressors, and the smallest cholesky pivot element being 2.220e-16. Reduce max_iter or increase eps parameters.\n",
            "Regressors in active set degenerate. Dropping a regressor, after 4 iterations, i.e. alpha=7.263e-03, with an active set of 4 regressors, and the smallest cholesky pivot element being 1.825e-08. Reduce max_iter or increase eps parameters.\n",
            "The default of 'normalize' will be set to False in version 1.2 and deprecated in version 1.4.\n",
            "If you wish to scale the data, use Pipeline with a StandardScaler in a preprocessing stage. To reproduce the previous behavior:\n",
            "\n",
            "from sklearn.pipeline import make_pipeline\n",
            "\n",
            "model = make_pipeline(StandardScaler(with_mean=False), LassoLarsIC())\n",
            "\n",
            "If you wish to pass a sample_weight parameter, you need to pass it as a fit parameter to each step of the pipeline as follows:\n",
            "\n",
            "kwargs = {s[0] + '__sample_weight': sample_weight for s in model.steps}\n",
            "model.fit(X, y, **kwargs)\n",
            "\n",
            "Set parameter alpha to: original_alpha * np.sqrt(n_samples). \n",
            "Regressors in active set degenerate. Dropping a regressor, after 3 iterations, i.e. alpha=1.268e-02, with an active set of 3 regressors, and the smallest cholesky pivot element being 1.490e-08. Reduce max_iter or increase eps parameters.\n",
            "Regressors in active set degenerate. Dropping a regressor, after 4 iterations, i.e. alpha=6.341e-03, with an active set of 4 regressors, and the smallest cholesky pivot element being 2.107e-08. Reduce max_iter or increase eps parameters.\n",
            "Regressors in active set degenerate. Dropping a regressor, after 4 iterations, i.e. alpha=6.341e-03, with an active set of 4 regressors, and the smallest cholesky pivot element being 1.490e-08. Reduce max_iter or increase eps parameters.\n",
            "Regressors in active set degenerate. Dropping a regressor, after 4 iterations, i.e. alpha=6.311e-03, with an active set of 4 regressors, and the smallest cholesky pivot element being 1.490e-08. Reduce max_iter or increase eps parameters.\n",
            "Regressors in active set degenerate. Dropping a regressor, after 4 iterations, i.e. alpha=6.311e-03, with an active set of 4 regressors, and the smallest cholesky pivot element being 1.054e-08. Reduce max_iter or increase eps parameters.\n",
            "The default of 'normalize' will be set to False in version 1.2 and deprecated in version 1.4.\n",
            "If you wish to scale the data, use Pipeline with a StandardScaler in a preprocessing stage. To reproduce the previous behavior:\n",
            "\n",
            "from sklearn.pipeline import make_pipeline\n",
            "\n",
            "model = make_pipeline(StandardScaler(with_mean=False), LassoLarsIC())\n",
            "\n",
            "If you wish to pass a sample_weight parameter, you need to pass it as a fit parameter to each step of the pipeline as follows:\n",
            "\n",
            "kwargs = {s[0] + '__sample_weight': sample_weight for s in model.steps}\n",
            "model.fit(X, y, **kwargs)\n",
            "\n",
            "Set parameter alpha to: original_alpha * np.sqrt(n_samples). \n",
            "Regressors in active set degenerate. Dropping a regressor, after 5 iterations, i.e. alpha=1.692e-03, with an active set of 3 regressors, and the smallest cholesky pivot element being 2.220e-16. Reduce max_iter or increase eps parameters.\n",
            "Regressors in active set degenerate. Dropping a regressor, after 8 iterations, i.e. alpha=8.462e-04, with an active set of 4 regressors, and the smallest cholesky pivot element being 2.581e-08. Reduce max_iter or increase eps parameters.\n",
            "Regressors in active set degenerate. Dropping a regressor, after 8 iterations, i.e. alpha=8.462e-04, with an active set of 4 regressors, and the smallest cholesky pivot element being 1.490e-08. Reduce max_iter or increase eps parameters.\n",
            "The default of 'normalize' will be set to False in version 1.2 and deprecated in version 1.4.\n",
            "If you wish to scale the data, use Pipeline with a StandardScaler in a preprocessing stage. To reproduce the previous behavior:\n",
            "\n",
            "from sklearn.pipeline import make_pipeline\n",
            "\n",
            "model = make_pipeline(StandardScaler(with_mean=False), LassoLarsIC())\n",
            "\n",
            "If you wish to pass a sample_weight parameter, you need to pass it as a fit parameter to each step of the pipeline as follows:\n",
            "\n",
            "kwargs = {s[0] + '__sample_weight': sample_weight for s in model.steps}\n",
            "model.fit(X, y, **kwargs)\n",
            "\n",
            "Set parameter alpha to: original_alpha * np.sqrt(n_samples). \n",
            "The default of 'normalize' will be set to False in version 1.2 and deprecated in version 1.4.\n",
            "If you wish to scale the data, use Pipeline with a StandardScaler in a preprocessing stage. To reproduce the previous behavior:\n",
            "\n",
            "from sklearn.pipeline import make_pipeline\n",
            "\n",
            "model = make_pipeline(StandardScaler(with_mean=False), LassoLarsIC())\n",
            "\n",
            "If you wish to pass a sample_weight parameter, you need to pass it as a fit parameter to each step of the pipeline as follows:\n",
            "\n",
            "kwargs = {s[0] + '__sample_weight': sample_weight for s in model.steps}\n",
            "model.fit(X, y, **kwargs)\n",
            "\n",
            "Set parameter alpha to: original_alpha * np.sqrt(n_samples). \n",
            "The default of 'normalize' will be set to False in version 1.2 and deprecated in version 1.4.\n",
            "If you wish to scale the data, use Pipeline with a StandardScaler in a preprocessing stage. To reproduce the previous behavior:\n",
            "\n",
            "from sklearn.pipeline import make_pipeline\n",
            "\n",
            "model = make_pipeline(StandardScaler(with_mean=False), LassoLarsIC())\n",
            "\n",
            "If you wish to pass a sample_weight parameter, you need to pass it as a fit parameter to each step of the pipeline as follows:\n",
            "\n",
            "kwargs = {s[0] + '__sample_weight': sample_weight for s in model.steps}\n",
            "model.fit(X, y, **kwargs)\n",
            "\n",
            "Set parameter alpha to: original_alpha * np.sqrt(n_samples). \n",
            "Regressors in active set degenerate. Dropping a regressor, after 2 iterations, i.e. alpha=2.477e-03, with an active set of 2 regressors, and the smallest cholesky pivot element being 2.107e-08. Reduce max_iter or increase eps parameters.\n",
            "Regressors in active set degenerate. Dropping a regressor, after 4 iterations, i.e. alpha=1.238e-03, with an active set of 4 regressors, and the smallest cholesky pivot element being 1.490e-08. Reduce max_iter or increase eps parameters.\n",
            "Regressors in active set degenerate. Dropping a regressor, after 4 iterations, i.e. alpha=1.238e-03, with an active set of 4 regressors, and the smallest cholesky pivot element being 2.107e-08. Reduce max_iter or increase eps parameters.\n",
            "The default of 'normalize' will be set to False in version 1.2 and deprecated in version 1.4.\n",
            "If you wish to scale the data, use Pipeline with a StandardScaler in a preprocessing stage. To reproduce the previous behavior:\n",
            "\n",
            "from sklearn.pipeline import make_pipeline\n",
            "\n",
            "model = make_pipeline(StandardScaler(with_mean=False), LassoLarsIC())\n",
            "\n",
            "If you wish to pass a sample_weight parameter, you need to pass it as a fit parameter to each step of the pipeline as follows:\n",
            "\n",
            "kwargs = {s[0] + '__sample_weight': sample_weight for s in model.steps}\n",
            "model.fit(X, y, **kwargs)\n",
            "\n",
            "Set parameter alpha to: original_alpha * np.sqrt(n_samples). \n",
            "Regressors in active set degenerate. Dropping a regressor, after 2 iterations, i.e. alpha=3.998e-02, with an active set of 2 regressors, and the smallest cholesky pivot element being 1.054e-08. Reduce max_iter or increase eps parameters.\n",
            "Regressors in active set degenerate. Dropping a regressor, after 3 iterations, i.e. alpha=1.999e-02, with an active set of 3 regressors, and the smallest cholesky pivot element being 1.054e-08. Reduce max_iter or increase eps parameters.\n",
            "Regressors in active set degenerate. Dropping a regressor, after 3 iterations, i.e. alpha=1.615e-02, with an active set of 3 regressors, and the smallest cholesky pivot element being 1.054e-08. Reduce max_iter or increase eps parameters.\n",
            "Regressors in active set degenerate. Dropping a regressor, after 4 iterations, i.e. alpha=1.471e-02, with an active set of 4 regressors, and the smallest cholesky pivot element being 1.054e-08. Reduce max_iter or increase eps parameters.\n",
            "Regressors in active set degenerate. Dropping a regressor, after 4 iterations, i.e. alpha=1.471e-02, with an active set of 4 regressors, and the smallest cholesky pivot element being 1.490e-08. Reduce max_iter or increase eps parameters.\n",
            "Regressors in active set degenerate. Dropping a regressor, after 4 iterations, i.e. alpha=9.358e-03, with an active set of 4 regressors, and the smallest cholesky pivot element being 2.220e-16. Reduce max_iter or increase eps parameters.\n",
            "Regressors in active set degenerate. Dropping a regressor, after 4 iterations, i.e. alpha=1.438e-03, with an active set of 4 regressors, and the smallest cholesky pivot element being 2.220e-16. Reduce max_iter or increase eps parameters.\n",
            "Regressors in active set degenerate. Dropping a regressor, after 4 iterations, i.e. alpha=1.438e-03, with an active set of 4 regressors, and the smallest cholesky pivot element being 1.054e-08. Reduce max_iter or increase eps parameters.\n",
            "The default of 'normalize' will be set to False in version 1.2 and deprecated in version 1.4.\n",
            "If you wish to scale the data, use Pipeline with a StandardScaler in a preprocessing stage. To reproduce the previous behavior:\n",
            "\n",
            "from sklearn.pipeline import make_pipeline\n",
            "\n",
            "model = make_pipeline(StandardScaler(with_mean=False), LassoLarsIC())\n",
            "\n",
            "If you wish to pass a sample_weight parameter, you need to pass it as a fit parameter to each step of the pipeline as follows:\n",
            "\n",
            "kwargs = {s[0] + '__sample_weight': sample_weight for s in model.steps}\n",
            "model.fit(X, y, **kwargs)\n",
            "\n",
            "Set parameter alpha to: original_alpha * np.sqrt(n_samples). \n",
            "Regressors in active set degenerate. Dropping a regressor, after 3 iterations, i.e. alpha=6.022e-03, with an active set of 3 regressors, and the smallest cholesky pivot element being 1.490e-08. Reduce max_iter or increase eps parameters.\n",
            "Regressors in active set degenerate. Dropping a regressor, after 4 iterations, i.e. alpha=2.120e-03, with an active set of 4 regressors, and the smallest cholesky pivot element being 1.490e-08. Reduce max_iter or increase eps parameters.\n",
            "The default of 'normalize' will be set to False in version 1.2 and deprecated in version 1.4.\n",
            "If you wish to scale the data, use Pipeline with a StandardScaler in a preprocessing stage. To reproduce the previous behavior:\n",
            "\n",
            "from sklearn.pipeline import make_pipeline\n",
            "\n",
            "model = make_pipeline(StandardScaler(with_mean=False), LassoLarsIC())\n",
            "\n",
            "If you wish to pass a sample_weight parameter, you need to pass it as a fit parameter to each step of the pipeline as follows:\n",
            "\n",
            "kwargs = {s[0] + '__sample_weight': sample_weight for s in model.steps}\n",
            "model.fit(X, y, **kwargs)\n",
            "\n",
            "Set parameter alpha to: original_alpha * np.sqrt(n_samples). \n",
            "Regressors in active set degenerate. Dropping a regressor, after 1 iterations, i.e. alpha=4.443e-02, with an active set of 1 regressors, and the smallest cholesky pivot element being 2.220e-16. Reduce max_iter or increase eps parameters.\n",
            "Regressors in active set degenerate. Dropping a regressor, after 2 iterations, i.e. alpha=1.665e-02, with an active set of 2 regressors, and the smallest cholesky pivot element being 2.107e-08. Reduce max_iter or increase eps parameters.\n",
            "Regressors in active set degenerate. Dropping a regressor, after 4 iterations, i.e. alpha=1.033e-02, with an active set of 4 regressors, and the smallest cholesky pivot element being 2.107e-08. Reduce max_iter or increase eps parameters.\n",
            "Regressors in active set degenerate. Dropping a regressor, after 4 iterations, i.e. alpha=5.561e-03, with an active set of 4 regressors, and the smallest cholesky pivot element being 1.490e-08. Reduce max_iter or increase eps parameters.\n",
            "Regressors in active set degenerate. Dropping a regressor, after 4 iterations, i.e. alpha=7.958e-04, with an active set of 4 regressors, and the smallest cholesky pivot element being 1.490e-08. Reduce max_iter or increase eps parameters.\n",
            "The default of 'normalize' will be set to False in version 1.2 and deprecated in version 1.4.\n",
            "If you wish to scale the data, use Pipeline with a StandardScaler in a preprocessing stage. To reproduce the previous behavior:\n",
            "\n",
            "from sklearn.pipeline import make_pipeline\n",
            "\n",
            "model = make_pipeline(StandardScaler(with_mean=False), LassoLarsIC())\n",
            "\n",
            "If you wish to pass a sample_weight parameter, you need to pass it as a fit parameter to each step of the pipeline as follows:\n",
            "\n",
            "kwargs = {s[0] + '__sample_weight': sample_weight for s in model.steps}\n",
            "model.fit(X, y, **kwargs)\n",
            "\n",
            "Set parameter alpha to: original_alpha * np.sqrt(n_samples). \n",
            "Regressors in active set degenerate. Dropping a regressor, after 1 iterations, i.e. alpha=2.752e-02, with an active set of 1 regressors, and the smallest cholesky pivot element being 2.220e-16. Reduce max_iter or increase eps parameters.\n",
            "Regressors in active set degenerate. Dropping a regressor, after 2 iterations, i.e. alpha=1.376e-02, with an active set of 2 regressors, and the smallest cholesky pivot element being 2.220e-16. Reduce max_iter or increase eps parameters.\n",
            "Regressors in active set degenerate. Dropping a regressor, after 2 iterations, i.e. alpha=1.071e-02, with an active set of 2 regressors, and the smallest cholesky pivot element being 2.220e-16. Reduce max_iter or increase eps parameters.\n",
            "Regressors in active set degenerate. Dropping a regressor, after 2 iterations, i.e. alpha=5.955e-03, with an active set of 2 regressors, and the smallest cholesky pivot element being 2.220e-16. Reduce max_iter or increase eps parameters.\n",
            "Regressors in active set degenerate. Dropping a regressor, after 4 iterations, i.e. alpha=1.847e-03, with an active set of 4 regressors, and the smallest cholesky pivot element being 2.220e-16. Reduce max_iter or increase eps parameters.\n",
            "Regressors in active set degenerate. Dropping a regressor, after 4 iterations, i.e. alpha=1.847e-03, with an active set of 4 regressors, and the smallest cholesky pivot element being 2.107e-08. Reduce max_iter or increase eps parameters.\n",
            "Regressors in active set degenerate. Dropping a regressor, after 4 iterations, i.e. alpha=1.066e-03, with an active set of 4 regressors, and the smallest cholesky pivot element being 2.107e-08. Reduce max_iter or increase eps parameters.\n",
            "The default of 'normalize' will be set to False in version 1.2 and deprecated in version 1.4.\n",
            "If you wish to scale the data, use Pipeline with a StandardScaler in a preprocessing stage. To reproduce the previous behavior:\n",
            "\n",
            "from sklearn.pipeline import make_pipeline\n",
            "\n",
            "model = make_pipeline(StandardScaler(with_mean=False), LassoLarsIC())\n",
            "\n",
            "If you wish to pass a sample_weight parameter, you need to pass it as a fit parameter to each step of the pipeline as follows:\n",
            "\n",
            "kwargs = {s[0] + '__sample_weight': sample_weight for s in model.steps}\n",
            "model.fit(X, y, **kwargs)\n",
            "\n",
            "Set parameter alpha to: original_alpha * np.sqrt(n_samples). \n",
            "Regressors in active set degenerate. Dropping a regressor, after 1 iterations, i.e. alpha=3.533e-02, with an active set of 1 regressors, and the smallest cholesky pivot element being 2.220e-16. Reduce max_iter or increase eps parameters.\n",
            "Regressors in active set degenerate. Dropping a regressor, after 3 iterations, i.e. alpha=1.766e-02, with an active set of 3 regressors, and the smallest cholesky pivot element being 2.220e-16. Reduce max_iter or increase eps parameters.\n",
            "Regressors in active set degenerate. Dropping a regressor, after 3 iterations, i.e. alpha=1.688e-02, with an active set of 3 regressors, and the smallest cholesky pivot element being 2.220e-16. Reduce max_iter or increase eps parameters.\n",
            "Regressors in active set degenerate. Dropping a regressor, after 3 iterations, i.e. alpha=1.678e-02, with an active set of 3 regressors, and the smallest cholesky pivot element being 2.220e-16. Reduce max_iter or increase eps parameters.\n",
            "Regressors in active set degenerate. Dropping a regressor, after 4 iterations, i.e. alpha=3.840e-03, with an active set of 4 regressors, and the smallest cholesky pivot element being 1.490e-08. Reduce max_iter or increase eps parameters.\n",
            "Regressors in active set degenerate. Dropping a regressor, after 4 iterations, i.e. alpha=3.382e-03, with an active set of 4 regressors, and the smallest cholesky pivot element being 2.220e-16. Reduce max_iter or increase eps parameters.\n",
            "Regressors in active set degenerate. Dropping a regressor, after 4 iterations, i.e. alpha=3.213e-03, with an active set of 4 regressors, and the smallest cholesky pivot element being 2.220e-16. Reduce max_iter or increase eps parameters.\n",
            "The default of 'normalize' will be set to False in version 1.2 and deprecated in version 1.4.\n",
            "If you wish to scale the data, use Pipeline with a StandardScaler in a preprocessing stage. To reproduce the previous behavior:\n",
            "\n",
            "from sklearn.pipeline import make_pipeline\n",
            "\n",
            "model = make_pipeline(StandardScaler(with_mean=False), LassoLarsIC())\n",
            "\n",
            "If you wish to pass a sample_weight parameter, you need to pass it as a fit parameter to each step of the pipeline as follows:\n",
            "\n",
            "kwargs = {s[0] + '__sample_weight': sample_weight for s in model.steps}\n",
            "model.fit(X, y, **kwargs)\n",
            "\n",
            "Set parameter alpha to: original_alpha * np.sqrt(n_samples). \n",
            "Regressors in active set degenerate. Dropping a regressor, after 2 iterations, i.e. alpha=1.369e-02, with an active set of 2 regressors, and the smallest cholesky pivot element being 1.490e-08. Reduce max_iter or increase eps parameters.\n",
            "Regressors in active set degenerate. Dropping a regressor, after 3 iterations, i.e. alpha=6.845e-03, with an active set of 3 regressors, and the smallest cholesky pivot element being 1.490e-08. Reduce max_iter or increase eps parameters.\n",
            "Regressors in active set degenerate. Dropping a regressor, after 3 iterations, i.e. alpha=6.845e-03, with an active set of 3 regressors, and the smallest cholesky pivot element being 2.220e-16. Reduce max_iter or increase eps parameters.\n",
            "Regressors in active set degenerate. Dropping a regressor, after 4 iterations, i.e. alpha=2.845e-03, with an active set of 4 regressors, and the smallest cholesky pivot element being 1.054e-08. Reduce max_iter or increase eps parameters.\n",
            "Regressors in active set degenerate. Dropping a regressor, after 4 iterations, i.e. alpha=2.845e-03, with an active set of 4 regressors, and the smallest cholesky pivot element being 2.220e-16. Reduce max_iter or increase eps parameters.\n",
            "Regressors in active set degenerate. Dropping a regressor, after 4 iterations, i.e. alpha=2.817e-03, with an active set of 4 regressors, and the smallest cholesky pivot element being 2.220e-16. Reduce max_iter or increase eps parameters.\n",
            "Regressors in active set degenerate. Dropping a regressor, after 4 iterations, i.e. alpha=2.705e-03, with an active set of 4 regressors, and the smallest cholesky pivot element being 2.220e-16. Reduce max_iter or increase eps parameters.\n",
            "Regressors in active set degenerate. Dropping a regressor, after 4 iterations, i.e. alpha=2.677e-03, with an active set of 4 regressors, and the smallest cholesky pivot element being 2.220e-16. Reduce max_iter or increase eps parameters.\n",
            "The default of 'normalize' will be set to False in version 1.2 and deprecated in version 1.4.\n",
            "If you wish to scale the data, use Pipeline with a StandardScaler in a preprocessing stage. To reproduce the previous behavior:\n",
            "\n",
            "from sklearn.pipeline import make_pipeline\n",
            "\n",
            "model = make_pipeline(StandardScaler(with_mean=False), LassoLarsIC())\n",
            "\n",
            "If you wish to pass a sample_weight parameter, you need to pass it as a fit parameter to each step of the pipeline as follows:\n",
            "\n",
            "kwargs = {s[0] + '__sample_weight': sample_weight for s in model.steps}\n",
            "model.fit(X, y, **kwargs)\n",
            "\n",
            "Set parameter alpha to: original_alpha * np.sqrt(n_samples). \n",
            "The default of 'normalize' will be set to False in version 1.2 and deprecated in version 1.4.\n",
            "If you wish to scale the data, use Pipeline with a StandardScaler in a preprocessing stage. To reproduce the previous behavior:\n",
            "\n",
            "from sklearn.pipeline import make_pipeline\n",
            "\n",
            "model = make_pipeline(StandardScaler(with_mean=False), LassoLarsIC())\n",
            "\n",
            "If you wish to pass a sample_weight parameter, you need to pass it as a fit parameter to each step of the pipeline as follows:\n",
            "\n",
            "kwargs = {s[0] + '__sample_weight': sample_weight for s in model.steps}\n",
            "model.fit(X, y, **kwargs)\n",
            "\n",
            "Set parameter alpha to: original_alpha * np.sqrt(n_samples). \n",
            "The default of 'normalize' will be set to False in version 1.2 and deprecated in version 1.4.\n",
            "If you wish to scale the data, use Pipeline with a StandardScaler in a preprocessing stage. To reproduce the previous behavior:\n",
            "\n",
            "from sklearn.pipeline import make_pipeline\n",
            "\n",
            "model = make_pipeline(StandardScaler(with_mean=False), LassoLarsIC())\n",
            "\n",
            "If you wish to pass a sample_weight parameter, you need to pass it as a fit parameter to each step of the pipeline as follows:\n",
            "\n",
            "kwargs = {s[0] + '__sample_weight': sample_weight for s in model.steps}\n",
            "model.fit(X, y, **kwargs)\n",
            "\n",
            "Set parameter alpha to: original_alpha * np.sqrt(n_samples). \n",
            "Regressors in active set degenerate. Dropping a regressor, after 4 iterations, i.e. alpha=2.679e-04, with an active set of 4 regressors, and the smallest cholesky pivot element being 2.107e-08. Reduce max_iter or increase eps parameters.\n",
            "Regressors in active set degenerate. Dropping a regressor, after 4 iterations, i.e. alpha=2.679e-04, with an active set of 4 regressors, and the smallest cholesky pivot element being 1.490e-08. Reduce max_iter or increase eps parameters.\n",
            "The default of 'normalize' will be set to False in version 1.2 and deprecated in version 1.4.\n",
            "If you wish to scale the data, use Pipeline with a StandardScaler in a preprocessing stage. To reproduce the previous behavior:\n",
            "\n",
            "from sklearn.pipeline import make_pipeline\n",
            "\n",
            "model = make_pipeline(StandardScaler(with_mean=False), LassoLarsIC())\n",
            "\n",
            "If you wish to pass a sample_weight parameter, you need to pass it as a fit parameter to each step of the pipeline as follows:\n",
            "\n",
            "kwargs = {s[0] + '__sample_weight': sample_weight for s in model.steps}\n",
            "model.fit(X, y, **kwargs)\n",
            "\n",
            "Set parameter alpha to: original_alpha * np.sqrt(n_samples). \n",
            "Regressors in active set degenerate. Dropping a regressor, after 1 iterations, i.e. alpha=6.403e-02, with an active set of 1 regressors, and the smallest cholesky pivot element being 2.220e-16. Reduce max_iter or increase eps parameters.\n",
            "Regressors in active set degenerate. Dropping a regressor, after 3 iterations, i.e. alpha=2.214e-02, with an active set of 3 regressors, and the smallest cholesky pivot element being 2.107e-08. Reduce max_iter or increase eps parameters.\n",
            "Regressors in active set degenerate. Dropping a regressor, after 4 iterations, i.e. alpha=1.159e-02, with an active set of 4 regressors, and the smallest cholesky pivot element being 2.107e-08. Reduce max_iter or increase eps parameters.\n",
            "Regressors in active set degenerate. Dropping a regressor, after 4 iterations, i.e. alpha=1.159e-02, with an active set of 4 regressors, and the smallest cholesky pivot element being 2.356e-08. Reduce max_iter or increase eps parameters.\n",
            "Regressors in active set degenerate. Dropping a regressor, after 4 iterations, i.e. alpha=9.191e-03, with an active set of 4 regressors, and the smallest cholesky pivot element being 2.220e-16. Reduce max_iter or increase eps parameters.\n",
            "Regressors in active set degenerate. Dropping a regressor, after 4 iterations, i.e. alpha=6.796e-03, with an active set of 4 regressors, and the smallest cholesky pivot element being 2.220e-16. Reduce max_iter or increase eps parameters.\n",
            "The default of 'normalize' will be set to False in version 1.2 and deprecated in version 1.4.\n",
            "If you wish to scale the data, use Pipeline with a StandardScaler in a preprocessing stage. To reproduce the previous behavior:\n",
            "\n",
            "from sklearn.pipeline import make_pipeline\n",
            "\n",
            "model = make_pipeline(StandardScaler(with_mean=False), LassoLarsIC())\n",
            "\n",
            "If you wish to pass a sample_weight parameter, you need to pass it as a fit parameter to each step of the pipeline as follows:\n",
            "\n",
            "kwargs = {s[0] + '__sample_weight': sample_weight for s in model.steps}\n",
            "model.fit(X, y, **kwargs)\n",
            "\n",
            "Set parameter alpha to: original_alpha * np.sqrt(n_samples). \n",
            "Regressors in active set degenerate. Dropping a regressor, after 1 iterations, i.e. alpha=5.737e-02, with an active set of 1 regressors, and the smallest cholesky pivot element being 2.220e-16. Reduce max_iter or increase eps parameters.\n",
            "Regressors in active set degenerate. Dropping a regressor, after 2 iterations, i.e. alpha=2.869e-02, with an active set of 2 regressors, and the smallest cholesky pivot element being 1.490e-08. Reduce max_iter or increase eps parameters.\n",
            "Regressors in active set degenerate. Dropping a regressor, after 2 iterations, i.e. alpha=2.869e-02, with an active set of 2 regressors, and the smallest cholesky pivot element being 2.220e-16. Reduce max_iter or increase eps parameters.\n",
            "Regressors in active set degenerate. Dropping a regressor, after 3 iterations, i.e. alpha=1.767e-02, with an active set of 3 regressors, and the smallest cholesky pivot element being 2.220e-16. Reduce max_iter or increase eps parameters.\n",
            "Regressors in active set degenerate. Dropping a regressor, after 4 iterations, i.e. alpha=1.156e-02, with an active set of 4 regressors, and the smallest cholesky pivot element being 1.490e-08. Reduce max_iter or increase eps parameters.\n",
            "Regressors in active set degenerate. Dropping a regressor, after 4 iterations, i.e. alpha=1.156e-02, with an active set of 4 regressors, and the smallest cholesky pivot element being 2.220e-16. Reduce max_iter or increase eps parameters.\n",
            "Regressors in active set degenerate. Dropping a regressor, after 4 iterations, i.e. alpha=4.910e-03, with an active set of 4 regressors, and the smallest cholesky pivot element being 2.220e-16. Reduce max_iter or increase eps parameters.\n",
            "Regressors in active set degenerate. Dropping a regressor, after 4 iterations, i.e. alpha=1.411e-03, with an active set of 4 regressors, and the smallest cholesky pivot element being 1.490e-08. Reduce max_iter or increase eps parameters.\n",
            "The default of 'normalize' will be set to False in version 1.2 and deprecated in version 1.4.\n",
            "If you wish to scale the data, use Pipeline with a StandardScaler in a preprocessing stage. To reproduce the previous behavior:\n",
            "\n",
            "from sklearn.pipeline import make_pipeline\n",
            "\n",
            "model = make_pipeline(StandardScaler(with_mean=False), LassoLarsIC())\n",
            "\n",
            "If you wish to pass a sample_weight parameter, you need to pass it as a fit parameter to each step of the pipeline as follows:\n",
            "\n",
            "kwargs = {s[0] + '__sample_weight': sample_weight for s in model.steps}\n",
            "model.fit(X, y, **kwargs)\n",
            "\n",
            "Set parameter alpha to: original_alpha * np.sqrt(n_samples). \n",
            "Regressors in active set degenerate. Dropping a regressor, after 3 iterations, i.e. alpha=4.080e-02, with an active set of 3 regressors, and the smallest cholesky pivot element being 1.054e-08. Reduce max_iter or increase eps parameters.\n",
            "Regressors in active set degenerate. Dropping a regressor, after 3 iterations, i.e. alpha=4.000e-02, with an active set of 3 regressors, and the smallest cholesky pivot element being 1.054e-08. Reduce max_iter or increase eps parameters.\n",
            "Regressors in active set degenerate. Dropping a regressor, after 4 iterations, i.e. alpha=2.000e-02, with an active set of 4 regressors, and the smallest cholesky pivot element being 1.054e-08. Reduce max_iter or increase eps parameters.\n",
            "Regressors in active set degenerate. Dropping a regressor, after 4 iterations, i.e. alpha=2.000e-02, with an active set of 4 regressors, and the smallest cholesky pivot element being 2.220e-16. Reduce max_iter or increase eps parameters.\n",
            "Regressors in active set degenerate. Dropping a regressor, after 4 iterations, i.e. alpha=1.993e-02, with an active set of 4 regressors, and the smallest cholesky pivot element being 2.107e-08. Reduce max_iter or increase eps parameters.\n",
            "The default of 'normalize' will be set to False in version 1.2 and deprecated in version 1.4.\n",
            "If you wish to scale the data, use Pipeline with a StandardScaler in a preprocessing stage. To reproduce the previous behavior:\n",
            "\n",
            "from sklearn.pipeline import make_pipeline\n",
            "\n",
            "model = make_pipeline(StandardScaler(with_mean=False), LassoLarsIC())\n",
            "\n",
            "If you wish to pass a sample_weight parameter, you need to pass it as a fit parameter to each step of the pipeline as follows:\n",
            "\n",
            "kwargs = {s[0] + '__sample_weight': sample_weight for s in model.steps}\n",
            "model.fit(X, y, **kwargs)\n",
            "\n",
            "Set parameter alpha to: original_alpha * np.sqrt(n_samples). \n",
            "Regressors in active set degenerate. Dropping a regressor, after 1 iterations, i.e. alpha=4.537e-02, with an active set of 1 regressors, and the smallest cholesky pivot element being 2.107e-08. Reduce max_iter or increase eps parameters.\n",
            "Regressors in active set degenerate. Dropping a regressor, after 2 iterations, i.e. alpha=3.882e-02, with an active set of 2 regressors, and the smallest cholesky pivot element being 2.107e-08. Reduce max_iter or increase eps parameters.\n",
            "Regressors in active set degenerate. Dropping a regressor, after 3 iterations, i.e. alpha=2.268e-02, with an active set of 3 regressors, and the smallest cholesky pivot element being 2.107e-08. Reduce max_iter or increase eps parameters.\n",
            "Regressors in active set degenerate. Dropping a regressor, after 4 iterations, i.e. alpha=1.912e-02, with an active set of 4 regressors, and the smallest cholesky pivot element being 2.107e-08. Reduce max_iter or increase eps parameters.\n",
            "Regressors in active set degenerate. Dropping a regressor, after 4 iterations, i.e. alpha=1.792e-02, with an active set of 4 regressors, and the smallest cholesky pivot element being 2.581e-08. Reduce max_iter or increase eps parameters.\n",
            "Regressors in active set degenerate. Dropping a regressor, after 4 iterations, i.e. alpha=2.980e-03, with an active set of 4 regressors, and the smallest cholesky pivot element being 2.581e-08. Reduce max_iter or increase eps parameters.\n",
            "Regressors in active set degenerate. Dropping a regressor, after 4 iterations, i.e. alpha=2.980e-03, with an active set of 4 regressors, and the smallest cholesky pivot element being 2.107e-08. Reduce max_iter or increase eps parameters.\n",
            "The default of 'normalize' will be set to False in version 1.2 and deprecated in version 1.4.\n",
            "If you wish to scale the data, use Pipeline with a StandardScaler in a preprocessing stage. To reproduce the previous behavior:\n",
            "\n",
            "from sklearn.pipeline import make_pipeline\n",
            "\n",
            "model = make_pipeline(StandardScaler(with_mean=False), LassoLarsIC())\n",
            "\n",
            "If you wish to pass a sample_weight parameter, you need to pass it as a fit parameter to each step of the pipeline as follows:\n",
            "\n",
            "kwargs = {s[0] + '__sample_weight': sample_weight for s in model.steps}\n",
            "model.fit(X, y, **kwargs)\n",
            "\n",
            "Set parameter alpha to: original_alpha * np.sqrt(n_samples). \n",
            "The default of 'normalize' will be set to False in version 1.2 and deprecated in version 1.4.\n",
            "If you wish to scale the data, use Pipeline with a StandardScaler in a preprocessing stage. To reproduce the previous behavior:\n",
            "\n",
            "from sklearn.pipeline import make_pipeline\n",
            "\n",
            "model = make_pipeline(StandardScaler(with_mean=False), LassoLarsIC())\n",
            "\n",
            "If you wish to pass a sample_weight parameter, you need to pass it as a fit parameter to each step of the pipeline as follows:\n",
            "\n",
            "kwargs = {s[0] + '__sample_weight': sample_weight for s in model.steps}\n",
            "model.fit(X, y, **kwargs)\n",
            "\n",
            "Set parameter alpha to: original_alpha * np.sqrt(n_samples). \n",
            "Regressors in active set degenerate. Dropping a regressor, after 3 iterations, i.e. alpha=4.246e-02, with an active set of 3 regressors, and the smallest cholesky pivot element being 1.490e-08. Reduce max_iter or increase eps parameters.\n",
            "Regressors in active set degenerate. Dropping a regressor, after 4 iterations, i.e. alpha=2.077e-02, with an active set of 4 regressors, and the smallest cholesky pivot element being 1.490e-08. Reduce max_iter or increase eps parameters.\n",
            "Regressors in active set degenerate. Dropping a regressor, after 4 iterations, i.e. alpha=1.989e-02, with an active set of 4 regressors, and the smallest cholesky pivot element being 1.490e-08. Reduce max_iter or increase eps parameters.\n",
            "Regressors in active set degenerate. Dropping a regressor, after 4 iterations, i.e. alpha=1.897e-02, with an active set of 4 regressors, and the smallest cholesky pivot element being 1.490e-08. Reduce max_iter or increase eps parameters.\n",
            "The default of 'normalize' will be set to False in version 1.2 and deprecated in version 1.4.\n",
            "If you wish to scale the data, use Pipeline with a StandardScaler in a preprocessing stage. To reproduce the previous behavior:\n",
            "\n",
            "from sklearn.pipeline import make_pipeline\n",
            "\n",
            "model = make_pipeline(StandardScaler(with_mean=False), LassoLarsIC())\n",
            "\n",
            "If you wish to pass a sample_weight parameter, you need to pass it as a fit parameter to each step of the pipeline as follows:\n",
            "\n",
            "kwargs = {s[0] + '__sample_weight': sample_weight for s in model.steps}\n",
            "model.fit(X, y, **kwargs)\n",
            "\n",
            "Set parameter alpha to: original_alpha * np.sqrt(n_samples). \n",
            "Regressors in active set degenerate. Dropping a regressor, after 2 iterations, i.e. alpha=3.175e-02, with an active set of 2 regressors, and the smallest cholesky pivot element being 2.107e-08. Reduce max_iter or increase eps parameters.\n",
            "Regressors in active set degenerate. Dropping a regressor, after 3 iterations, i.e. alpha=1.588e-02, with an active set of 3 regressors, and the smallest cholesky pivot element being 2.107e-08. Reduce max_iter or increase eps parameters.\n",
            "Regressors in active set degenerate. Dropping a regressor, after 4 iterations, i.e. alpha=1.369e-02, with an active set of 4 regressors, and the smallest cholesky pivot element being 2.220e-16. Reduce max_iter or increase eps parameters.\n",
            "Regressors in active set degenerate. Dropping a regressor, after 4 iterations, i.e. alpha=9.848e-03, with an active set of 4 regressors, and the smallest cholesky pivot element being 2.220e-16. Reduce max_iter or increase eps parameters.\n",
            "Regressors in active set degenerate. Dropping a regressor, after 4 iterations, i.e. alpha=9.587e-03, with an active set of 4 regressors, and the smallest cholesky pivot element being 2.107e-08. Reduce max_iter or increase eps parameters.\n",
            "Regressors in active set degenerate. Dropping a regressor, after 4 iterations, i.e. alpha=1.923e-03, with an active set of 4 regressors, and the smallest cholesky pivot element being 2.220e-16. Reduce max_iter or increase eps parameters.\n",
            "The default of 'normalize' will be set to False in version 1.2 and deprecated in version 1.4.\n",
            "If you wish to scale the data, use Pipeline with a StandardScaler in a preprocessing stage. To reproduce the previous behavior:\n",
            "\n",
            "from sklearn.pipeline import make_pipeline\n",
            "\n",
            "model = make_pipeline(StandardScaler(with_mean=False), LassoLarsIC())\n",
            "\n",
            "If you wish to pass a sample_weight parameter, you need to pass it as a fit parameter to each step of the pipeline as follows:\n",
            "\n",
            "kwargs = {s[0] + '__sample_weight': sample_weight for s in model.steps}\n",
            "model.fit(X, y, **kwargs)\n",
            "\n",
            "Set parameter alpha to: original_alpha * np.sqrt(n_samples). \n",
            "Regressors in active set degenerate. Dropping a regressor, after 3 iterations, i.e. alpha=1.803e-02, with an active set of 3 regressors, and the smallest cholesky pivot element being 2.220e-16. Reduce max_iter or increase eps parameters.\n",
            "Regressors in active set degenerate. Dropping a regressor, after 3 iterations, i.e. alpha=1.803e-02, with an active set of 3 regressors, and the smallest cholesky pivot element being 1.054e-08. Reduce max_iter or increase eps parameters.\n",
            "Regressors in active set degenerate. Dropping a regressor, after 3 iterations, i.e. alpha=1.803e-02, with an active set of 3 regressors, and the smallest cholesky pivot element being 2.107e-08. Reduce max_iter or increase eps parameters.\n",
            "Regressors in active set degenerate. Dropping a regressor, after 4 iterations, i.e. alpha=9.013e-03, with an active set of 4 regressors, and the smallest cholesky pivot element being 2.107e-08. Reduce max_iter or increase eps parameters.\n",
            "Regressors in active set degenerate. Dropping a regressor, after 4 iterations, i.e. alpha=9.013e-03, with an active set of 4 regressors, and the smallest cholesky pivot element being 1.054e-08. Reduce max_iter or increase eps parameters.\n",
            "The default of 'normalize' will be set to False in version 1.2 and deprecated in version 1.4.\n",
            "If you wish to scale the data, use Pipeline with a StandardScaler in a preprocessing stage. To reproduce the previous behavior:\n",
            "\n",
            "from sklearn.pipeline import make_pipeline\n",
            "\n",
            "model = make_pipeline(StandardScaler(with_mean=False), LassoLarsIC())\n",
            "\n",
            "If you wish to pass a sample_weight parameter, you need to pass it as a fit parameter to each step of the pipeline as follows:\n",
            "\n",
            "kwargs = {s[0] + '__sample_weight': sample_weight for s in model.steps}\n",
            "model.fit(X, y, **kwargs)\n",
            "\n",
            "Set parameter alpha to: original_alpha * np.sqrt(n_samples). \n",
            "Regressors in active set degenerate. Dropping a regressor, after 1 iterations, i.e. alpha=1.910e-02, with an active set of 1 regressors, and the smallest cholesky pivot element being 1.490e-08. Reduce max_iter or increase eps parameters.\n",
            "Regressors in active set degenerate. Dropping a regressor, after 2 iterations, i.e. alpha=1.622e-02, with an active set of 2 regressors, and the smallest cholesky pivot element being 2.107e-08. Reduce max_iter or increase eps parameters.\n",
            "Regressors in active set degenerate. Dropping a regressor, after 3 iterations, i.e. alpha=9.550e-03, with an active set of 3 regressors, and the smallest cholesky pivot element being 2.107e-08. Reduce max_iter or increase eps parameters.\n",
            "Regressors in active set degenerate. Dropping a regressor, after 3 iterations, i.e. alpha=8.287e-03, with an active set of 3 regressors, and the smallest cholesky pivot element being 2.107e-08. Reduce max_iter or increase eps parameters.\n",
            "Regressors in active set degenerate. Dropping a regressor, after 3 iterations, i.e. alpha=6.673e-03, with an active set of 3 regressors, and the smallest cholesky pivot element being 2.107e-08. Reduce max_iter or increase eps parameters.\n",
            "Regressors in active set degenerate. Dropping a regressor, after 4 iterations, i.e. alpha=1.632e-03, with an active set of 4 regressors, and the smallest cholesky pivot element being 2.107e-08. Reduce max_iter or increase eps parameters.\n",
            "The default of 'normalize' will be set to False in version 1.2 and deprecated in version 1.4.\n",
            "If you wish to scale the data, use Pipeline with a StandardScaler in a preprocessing stage. To reproduce the previous behavior:\n",
            "\n",
            "from sklearn.pipeline import make_pipeline\n",
            "\n",
            "model = make_pipeline(StandardScaler(with_mean=False), LassoLarsIC())\n",
            "\n",
            "If you wish to pass a sample_weight parameter, you need to pass it as a fit parameter to each step of the pipeline as follows:\n",
            "\n",
            "kwargs = {s[0] + '__sample_weight': sample_weight for s in model.steps}\n",
            "model.fit(X, y, **kwargs)\n",
            "\n",
            "Set parameter alpha to: original_alpha * np.sqrt(n_samples). \n",
            "Regressors in active set degenerate. Dropping a regressor, after 3 iterations, i.e. alpha=2.926e-03, with an active set of 3 regressors, and the smallest cholesky pivot element being 2.220e-16. Reduce max_iter or increase eps parameters.\n",
            "Regressors in active set degenerate. Dropping a regressor, after 4 iterations, i.e. alpha=1.171e-03, with an active set of 4 regressors, and the smallest cholesky pivot element being 2.220e-16. Reduce max_iter or increase eps parameters.\n",
            "Regressors in active set degenerate. Dropping a regressor, after 4 iterations, i.e. alpha=1.171e-03, with an active set of 4 regressors, and the smallest cholesky pivot element being 2.581e-08. Reduce max_iter or increase eps parameters.\n",
            "Regressors in active set degenerate. Dropping a regressor, after 5 iterations, i.e. alpha=3.984e-04, with an active set of 5 regressors, and the smallest cholesky pivot element being 2.107e-08. Reduce max_iter or increase eps parameters.\n",
            "Regressors in active set degenerate. Dropping a regressor, after 5 iterations, i.e. alpha=3.984e-04, with an active set of 5 regressors, and the smallest cholesky pivot element being 2.220e-16. Reduce max_iter or increase eps parameters.\n",
            "Regressors in active set degenerate. Dropping a regressor, after 5 iterations, i.e. alpha=3.374e-04, with an active set of 5 regressors, and the smallest cholesky pivot element being 2.220e-16. Reduce max_iter or increase eps parameters.\n",
            "Regressors in active set degenerate. Dropping a regressor, after 5 iterations, i.e. alpha=3.310e-04, with an active set of 5 regressors, and the smallest cholesky pivot element being 2.220e-16. Reduce max_iter or increase eps parameters.\n",
            "Regressors in active set degenerate. Dropping a regressor, after 5 iterations, i.e. alpha=1.256e-04, with an active set of 5 regressors, and the smallest cholesky pivot element being 2.220e-16. Reduce max_iter or increase eps parameters.\n",
            "Regressors in active set degenerate. Dropping a regressor, after 5 iterations, i.e. alpha=1.192e-04, with an active set of 5 regressors, and the smallest cholesky pivot element being 2.220e-16. Reduce max_iter or increase eps parameters.\n",
            "The default of 'normalize' will be set to False in version 1.2 and deprecated in version 1.4.\n",
            "If you wish to scale the data, use Pipeline with a StandardScaler in a preprocessing stage. To reproduce the previous behavior:\n",
            "\n",
            "from sklearn.pipeline import make_pipeline\n",
            "\n",
            "model = make_pipeline(StandardScaler(with_mean=False), LassoLarsIC())\n",
            "\n",
            "If you wish to pass a sample_weight parameter, you need to pass it as a fit parameter to each step of the pipeline as follows:\n",
            "\n",
            "kwargs = {s[0] + '__sample_weight': sample_weight for s in model.steps}\n",
            "model.fit(X, y, **kwargs)\n",
            "\n",
            "Set parameter alpha to: original_alpha * np.sqrt(n_samples). \n",
            "Regressors in active set degenerate. Dropping a regressor, after 1 iterations, i.e. alpha=7.806e-03, with an active set of 1 regressors, and the smallest cholesky pivot element being 2.107e-08. Reduce max_iter or increase eps parameters.\n",
            "Regressors in active set degenerate. Dropping a regressor, after 2 iterations, i.e. alpha=3.903e-03, with an active set of 2 regressors, and the smallest cholesky pivot element being 2.220e-16. Reduce max_iter or increase eps parameters.\n",
            "Regressors in active set degenerate. Dropping a regressor, after 3 iterations, i.e. alpha=1.419e-03, with an active set of 3 regressors, and the smallest cholesky pivot element being 2.107e-08. Reduce max_iter or increase eps parameters.\n",
            "Regressors in active set degenerate. Dropping a regressor, after 3 iterations, i.e. alpha=1.419e-03, with an active set of 3 regressors, and the smallest cholesky pivot element being 2.220e-16. Reduce max_iter or increase eps parameters.\n",
            "Regressors in active set degenerate. Dropping a regressor, after 4 iterations, i.e. alpha=2.457e-04, with an active set of 4 regressors, and the smallest cholesky pivot element being 2.220e-16. Reduce max_iter or increase eps parameters.\n",
            "The default of 'normalize' will be set to False in version 1.2 and deprecated in version 1.4.\n",
            "If you wish to scale the data, use Pipeline with a StandardScaler in a preprocessing stage. To reproduce the previous behavior:\n",
            "\n",
            "from sklearn.pipeline import make_pipeline\n",
            "\n",
            "model = make_pipeline(StandardScaler(with_mean=False), LassoLarsIC())\n",
            "\n",
            "If you wish to pass a sample_weight parameter, you need to pass it as a fit parameter to each step of the pipeline as follows:\n",
            "\n",
            "kwargs = {s[0] + '__sample_weight': sample_weight for s in model.steps}\n",
            "model.fit(X, y, **kwargs)\n",
            "\n",
            "Set parameter alpha to: original_alpha * np.sqrt(n_samples). \n",
            "Regressors in active set degenerate. Dropping a regressor, after 4 iterations, i.e. alpha=6.120e-03, with an active set of 4 regressors, and the smallest cholesky pivot element being 2.788e-08. Reduce max_iter or increase eps parameters.\n",
            "Regressors in active set degenerate. Dropping a regressor, after 4 iterations, i.e. alpha=6.120e-03, with an active set of 4 regressors, and the smallest cholesky pivot element being 1.490e-08. Reduce max_iter or increase eps parameters.\n",
            "The default of 'normalize' will be set to False in version 1.2 and deprecated in version 1.4.\n",
            "If you wish to scale the data, use Pipeline with a StandardScaler in a preprocessing stage. To reproduce the previous behavior:\n",
            "\n",
            "from sklearn.pipeline import make_pipeline\n",
            "\n",
            "model = make_pipeline(StandardScaler(with_mean=False), LassoLarsIC())\n",
            "\n",
            "If you wish to pass a sample_weight parameter, you need to pass it as a fit parameter to each step of the pipeline as follows:\n",
            "\n",
            "kwargs = {s[0] + '__sample_weight': sample_weight for s in model.steps}\n",
            "model.fit(X, y, **kwargs)\n",
            "\n",
            "Set parameter alpha to: original_alpha * np.sqrt(n_samples). \n",
            "The default of 'normalize' will be set to False in version 1.2 and deprecated in version 1.4.\n",
            "If you wish to scale the data, use Pipeline with a StandardScaler in a preprocessing stage. To reproduce the previous behavior:\n",
            "\n",
            "from sklearn.pipeline import make_pipeline\n",
            "\n",
            "model = make_pipeline(StandardScaler(with_mean=False), LassoLarsIC())\n",
            "\n",
            "If you wish to pass a sample_weight parameter, you need to pass it as a fit parameter to each step of the pipeline as follows:\n",
            "\n",
            "kwargs = {s[0] + '__sample_weight': sample_weight for s in model.steps}\n",
            "model.fit(X, y, **kwargs)\n",
            "\n",
            "Set parameter alpha to: original_alpha * np.sqrt(n_samples). \n",
            "Regressors in active set degenerate. Dropping a regressor, after 1 iterations, i.e. alpha=3.496e-02, with an active set of 1 regressors, and the smallest cholesky pivot element being 2.220e-16. Reduce max_iter or increase eps parameters.\n",
            "Regressors in active set degenerate. Dropping a regressor, after 2 iterations, i.e. alpha=1.748e-02, with an active set of 2 regressors, and the smallest cholesky pivot element being 2.220e-16. Reduce max_iter or increase eps parameters.\n",
            "Regressors in active set degenerate. Dropping a regressor, after 3 iterations, i.e. alpha=7.626e-03, with an active set of 3 regressors, and the smallest cholesky pivot element being 2.107e-08. Reduce max_iter or increase eps parameters.\n",
            "Regressors in active set degenerate. Dropping a regressor, after 3 iterations, i.e. alpha=7.626e-03, with an active set of 3 regressors, and the smallest cholesky pivot element being 2.220e-16. Reduce max_iter or increase eps parameters.\n",
            "Regressors in active set degenerate. Dropping a regressor, after 4 iterations, i.e. alpha=4.149e-04, with an active set of 4 regressors, and the smallest cholesky pivot element being 2.107e-08. Reduce max_iter or increase eps parameters.\n",
            "Regressors in active set degenerate. Dropping a regressor, after 4 iterations, i.e. alpha=4.149e-04, with an active set of 4 regressors, and the smallest cholesky pivot element being 1.490e-08. Reduce max_iter or increase eps parameters.\n",
            "The default of 'normalize' will be set to False in version 1.2 and deprecated in version 1.4.\n",
            "If you wish to scale the data, use Pipeline with a StandardScaler in a preprocessing stage. To reproduce the previous behavior:\n",
            "\n",
            "from sklearn.pipeline import make_pipeline\n",
            "\n",
            "model = make_pipeline(StandardScaler(with_mean=False), LassoLarsIC())\n",
            "\n",
            "If you wish to pass a sample_weight parameter, you need to pass it as a fit parameter to each step of the pipeline as follows:\n",
            "\n",
            "kwargs = {s[0] + '__sample_weight': sample_weight for s in model.steps}\n",
            "model.fit(X, y, **kwargs)\n",
            "\n",
            "Set parameter alpha to: original_alpha * np.sqrt(n_samples). \n",
            "Regressors in active set degenerate. Dropping a regressor, after 2 iterations, i.e. alpha=3.471e-02, with an active set of 2 regressors, and the smallest cholesky pivot element being 2.581e-08. Reduce max_iter or increase eps parameters.\n",
            "Regressors in active set degenerate. Dropping a regressor, after 3 iterations, i.e. alpha=1.735e-02, with an active set of 3 regressors, and the smallest cholesky pivot element being 2.581e-08. Reduce max_iter or increase eps parameters.\n",
            "Regressors in active set degenerate. Dropping a regressor, after 4 iterations, i.e. alpha=3.874e-03, with an active set of 4 regressors, and the smallest cholesky pivot element being 1.490e-08. Reduce max_iter or increase eps parameters.\n",
            "The default of 'normalize' will be set to False in version 1.2 and deprecated in version 1.4.\n",
            "If you wish to scale the data, use Pipeline with a StandardScaler in a preprocessing stage. To reproduce the previous behavior:\n",
            "\n",
            "from sklearn.pipeline import make_pipeline\n",
            "\n",
            "model = make_pipeline(StandardScaler(with_mean=False), LassoLarsIC())\n",
            "\n",
            "If you wish to pass a sample_weight parameter, you need to pass it as a fit parameter to each step of the pipeline as follows:\n",
            "\n",
            "kwargs = {s[0] + '__sample_weight': sample_weight for s in model.steps}\n",
            "model.fit(X, y, **kwargs)\n",
            "\n",
            "Set parameter alpha to: original_alpha * np.sqrt(n_samples). \n",
            "Regressors in active set degenerate. Dropping a regressor, after 2 iterations, i.e. alpha=2.179e-02, with an active set of 2 regressors, and the smallest cholesky pivot element being 1.490e-08. Reduce max_iter or increase eps parameters.\n",
            "Regressors in active set degenerate. Dropping a regressor, after 2 iterations, i.e. alpha=2.179e-02, with an active set of 2 regressors, and the smallest cholesky pivot element being 2.107e-08. Reduce max_iter or increase eps parameters.\n",
            "Regressors in active set degenerate. Dropping a regressor, after 3 iterations, i.e. alpha=1.090e-02, with an active set of 3 regressors, and the smallest cholesky pivot element being 1.490e-08. Reduce max_iter or increase eps parameters.\n",
            "Regressors in active set degenerate. Dropping a regressor, after 3 iterations, i.e. alpha=1.090e-02, with an active set of 3 regressors, and the smallest cholesky pivot element being 2.107e-08. Reduce max_iter or increase eps parameters.\n",
            "Regressors in active set degenerate. Dropping a regressor, after 4 iterations, i.e. alpha=2.273e-03, with an active set of 4 regressors, and the smallest cholesky pivot element being 2.107e-08. Reduce max_iter or increase eps parameters.\n",
            "Regressors in active set degenerate. Dropping a regressor, after 4 iterations, i.e. alpha=2.273e-03, with an active set of 4 regressors, and the smallest cholesky pivot element being 1.490e-08. Reduce max_iter or increase eps parameters.\n",
            "Regressors in active set degenerate. Dropping a regressor, after 4 iterations, i.e. alpha=2.273e-03, with an active set of 4 regressors, and the smallest cholesky pivot element being 2.220e-16. Reduce max_iter or increase eps parameters.\n",
            "The default of 'normalize' will be set to False in version 1.2 and deprecated in version 1.4.\n",
            "If you wish to scale the data, use Pipeline with a StandardScaler in a preprocessing stage. To reproduce the previous behavior:\n",
            "\n",
            "from sklearn.pipeline import make_pipeline\n",
            "\n",
            "model = make_pipeline(StandardScaler(with_mean=False), LassoLarsIC())\n",
            "\n",
            "If you wish to pass a sample_weight parameter, you need to pass it as a fit parameter to each step of the pipeline as follows:\n",
            "\n",
            "kwargs = {s[0] + '__sample_weight': sample_weight for s in model.steps}\n",
            "model.fit(X, y, **kwargs)\n",
            "\n",
            "Set parameter alpha to: original_alpha * np.sqrt(n_samples). \n",
            "The default of 'normalize' will be set to False in version 1.2 and deprecated in version 1.4.\n",
            "If you wish to scale the data, use Pipeline with a StandardScaler in a preprocessing stage. To reproduce the previous behavior:\n",
            "\n",
            "from sklearn.pipeline import make_pipeline\n",
            "\n",
            "model = make_pipeline(StandardScaler(with_mean=False), LassoLarsIC())\n",
            "\n",
            "If you wish to pass a sample_weight parameter, you need to pass it as a fit parameter to each step of the pipeline as follows:\n",
            "\n",
            "kwargs = {s[0] + '__sample_weight': sample_weight for s in model.steps}\n",
            "model.fit(X, y, **kwargs)\n",
            "\n",
            "Set parameter alpha to: original_alpha * np.sqrt(n_samples). \n",
            "The default of 'normalize' will be set to False in version 1.2 and deprecated in version 1.4.\n",
            "If you wish to scale the data, use Pipeline with a StandardScaler in a preprocessing stage. To reproduce the previous behavior:\n",
            "\n",
            "from sklearn.pipeline import make_pipeline\n",
            "\n",
            "model = make_pipeline(StandardScaler(with_mean=False), LassoLarsIC())\n",
            "\n",
            "If you wish to pass a sample_weight parameter, you need to pass it as a fit parameter to each step of the pipeline as follows:\n",
            "\n",
            "kwargs = {s[0] + '__sample_weight': sample_weight for s in model.steps}\n",
            "model.fit(X, y, **kwargs)\n",
            "\n",
            "Set parameter alpha to: original_alpha * np.sqrt(n_samples). \n",
            "Regressors in active set degenerate. Dropping a regressor, after 1 iterations, i.e. alpha=1.898e-02, with an active set of 1 regressors, and the smallest cholesky pivot element being 2.220e-16. Reduce max_iter or increase eps parameters.\n",
            "Regressors in active set degenerate. Dropping a regressor, after 2 iterations, i.e. alpha=9.492e-03, with an active set of 2 regressors, and the smallest cholesky pivot element being 1.490e-08. Reduce max_iter or increase eps parameters.\n",
            "Regressors in active set degenerate. Dropping a regressor, after 3 iterations, i.e. alpha=3.944e-03, with an active set of 3 regressors, and the smallest cholesky pivot element being 1.490e-08. Reduce max_iter or increase eps parameters.\n",
            "Regressors in active set degenerate. Dropping a regressor, after 3 iterations, i.e. alpha=3.669e-03, with an active set of 3 regressors, and the smallest cholesky pivot element being 1.490e-08. Reduce max_iter or increase eps parameters.\n",
            "The default of 'normalize' will be set to False in version 1.2 and deprecated in version 1.4.\n",
            "If you wish to scale the data, use Pipeline with a StandardScaler in a preprocessing stage. To reproduce the previous behavior:\n",
            "\n",
            "from sklearn.pipeline import make_pipeline\n",
            "\n",
            "model = make_pipeline(StandardScaler(with_mean=False), LassoLarsIC())\n",
            "\n",
            "If you wish to pass a sample_weight parameter, you need to pass it as a fit parameter to each step of the pipeline as follows:\n",
            "\n",
            "kwargs = {s[0] + '__sample_weight': sample_weight for s in model.steps}\n",
            "model.fit(X, y, **kwargs)\n",
            "\n",
            "Set parameter alpha to: original_alpha * np.sqrt(n_samples). \n",
            "Regressors in active set degenerate. Dropping a regressor, after 1 iterations, i.e. alpha=5.765e-02, with an active set of 1 regressors, and the smallest cholesky pivot element being 2.220e-16. Reduce max_iter or increase eps parameters.\n",
            "Regressors in active set degenerate. Dropping a regressor, after 3 iterations, i.e. alpha=2.603e-02, with an active set of 3 regressors, and the smallest cholesky pivot element being 2.220e-16. Reduce max_iter or increase eps parameters.\n",
            "Regressors in active set degenerate. Dropping a regressor, after 3 iterations, i.e. alpha=2.603e-02, with an active set of 3 regressors, and the smallest cholesky pivot element being 1.490e-08. Reduce max_iter or increase eps parameters.\n",
            "Regressors in active set degenerate. Dropping a regressor, after 3 iterations, i.e. alpha=2.045e-02, with an active set of 3 regressors, and the smallest cholesky pivot element being 1.490e-08. Reduce max_iter or increase eps parameters.\n",
            "Regressors in active set degenerate. Dropping a regressor, after 4 iterations, i.e. alpha=9.687e-03, with an active set of 4 regressors, and the smallest cholesky pivot element being 2.788e-08. Reduce max_iter or increase eps parameters.\n",
            "Regressors in active set degenerate. Dropping a regressor, after 4 iterations, i.e. alpha=9.687e-03, with an active set of 4 regressors, and the smallest cholesky pivot element being 2.220e-16. Reduce max_iter or increase eps parameters.\n",
            "Regressors in active set degenerate. Dropping a regressor, after 4 iterations, i.e. alpha=9.687e-03, with an active set of 4 regressors, and the smallest cholesky pivot element being 1.490e-08. Reduce max_iter or increase eps parameters.\n",
            "The default of 'normalize' will be set to False in version 1.2 and deprecated in version 1.4.\n",
            "If you wish to scale the data, use Pipeline with a StandardScaler in a preprocessing stage. To reproduce the previous behavior:\n",
            "\n",
            "from sklearn.pipeline import make_pipeline\n",
            "\n",
            "model = make_pipeline(StandardScaler(with_mean=False), LassoLarsIC())\n",
            "\n",
            "If you wish to pass a sample_weight parameter, you need to pass it as a fit parameter to each step of the pipeline as follows:\n",
            "\n",
            "kwargs = {s[0] + '__sample_weight': sample_weight for s in model.steps}\n",
            "model.fit(X, y, **kwargs)\n",
            "\n",
            "Set parameter alpha to: original_alpha * np.sqrt(n_samples). \n",
            "Regressors in active set degenerate. Dropping a regressor, after 1 iterations, i.e. alpha=2.220e-02, with an active set of 1 regressors, and the smallest cholesky pivot element being 2.107e-08. Reduce max_iter or increase eps parameters.\n",
            "Regressors in active set degenerate. Dropping a regressor, after 2 iterations, i.e. alpha=1.737e-02, with an active set of 2 regressors, and the smallest cholesky pivot element being 2.107e-08. Reduce max_iter or increase eps parameters.\n",
            "Regressors in active set degenerate. Dropping a regressor, after 3 iterations, i.e. alpha=1.260e-02, with an active set of 3 regressors, and the smallest cholesky pivot element being 2.107e-08. Reduce max_iter or increase eps parameters.\n",
            "Regressors in active set degenerate. Dropping a regressor, after 4 iterations, i.e. alpha=8.450e-03, with an active set of 4 regressors, and the smallest cholesky pivot element being 2.107e-08. Reduce max_iter or increase eps parameters.\n",
            "Regressors in active set degenerate. Dropping a regressor, after 4 iterations, i.e. alpha=5.325e-03, with an active set of 4 regressors, and the smallest cholesky pivot element being 3.332e-08. Reduce max_iter or increase eps parameters.\n",
            "Regressors in active set degenerate. Dropping a regressor, after 4 iterations, i.e. alpha=1.920e-03, with an active set of 4 regressors, and the smallest cholesky pivot element being 2.107e-08. Reduce max_iter or increase eps parameters.\n",
            "Regressors in active set degenerate. Dropping a regressor, after 4 iterations, i.e. alpha=1.382e-03, with an active set of 4 regressors, and the smallest cholesky pivot element being 2.107e-08. Reduce max_iter or increase eps parameters.\n",
            "Regressors in active set degenerate. Dropping a regressor, after 4 iterations, i.e. alpha=1.314e-03, with an active set of 4 regressors, and the smallest cholesky pivot element being 2.107e-08. Reduce max_iter or increase eps parameters.\n"
          ]
        }
      ]
    },
    {
      "cell_type": "code",
      "source": [
        "shap.summary_plot(shap_values,x_test[:50],feature_names=x_test.columns)"
      ],
      "metadata": {
        "colab": {
          "base_uri": "https://localhost:8080/",
          "height": 407
        },
        "id": "v4_U-pq3effO",
        "outputId": "fcc206ee-f05b-473e-8bc7-1078ac800750"
      },
      "execution_count": null,
      "outputs": [
        {
          "output_type": "display_data",
          "data": {
            "image/png": "[encoded data removed]",
            "text/plain": [
              "<Figure size 576x453.6 with 1 Axes>"
            ]
          },
          "metadata": {
            "needs_background": "light"
          }
        }
      ]
    },
    {
      "cell_type": "markdown",
      "source": [
        "Based on this plot, we can see that dancebility and loudness are two key features in determining whether a song is succesful. This differs slightly from XGBoost as it thought duration was the most important feature, and Shap for the neural network thought it was an insignificant feature."
      ],
      "metadata": {
        "id": "Hu6troLYhowe"
      }
    }
  ]
}